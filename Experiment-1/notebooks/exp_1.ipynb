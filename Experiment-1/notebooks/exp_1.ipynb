{
  "nbformat": 4,
  "nbformat_minor": 0,
  "metadata": {
    "colab": {
      "name": "exp-1.ipynb",
      "version": "0.3.2",
      "provenance": [],
      "collapsed_sections": []
    },
    "kernelspec": {
      "name": "python3",
      "display_name": "Python 3"
    },
    "accelerator": "GPU"
  },
  "cells": [
    {
      "cell_type": "code",
      "metadata": {
        "id": "HzvGyXiytQ54",
        "colab_type": "code",
        "colab": {}
      },
      "source": [
        "! pip install comet-ml"
      ],
      "execution_count": 0,
      "outputs": []
    },
    {
      "cell_type": "code",
      "metadata": {
        "id": "mowmIGaKxPcO",
        "colab_type": "code",
        "colab": {}
      },
      "source": [
        "! git clone https://github.com/dudeperf3ct/TextRecognizer.git"
      ],
      "execution_count": 0,
      "outputs": []
    },
    {
      "cell_type": "code",
      "metadata": {
        "id": "ZBaKb-7bxSGt",
        "colab_type": "code",
        "colab": {
          "base_uri": "https://localhost:8080/",
          "height": 34
        },
        "outputId": "85323de3-0233-49c5-deec-e79e63065b7d"
      },
      "source": [
        "%cd TextRecognizer/Experiment-1/notebooks"
      ],
      "execution_count": 3,
      "outputs": [
        {
          "output_type": "stream",
          "text": [
            "/content/TextRecognizer/Experiment-1/notebooks\n"
          ],
          "name": "stdout"
        }
      ]
    },
    {
      "cell_type": "code",
      "metadata": {
        "id": "-Qu7ekkktcIE",
        "colab_type": "code",
        "colab": {}
      },
      "source": [
        "%reload_ext autoreload\n",
        "%autoreload 2\n",
        "%matplotlib inline"
      ],
      "execution_count": 0,
      "outputs": []
    },
    {
      "cell_type": "code",
      "metadata": {
        "id": "GEuepLnv0S-X",
        "colab_type": "code",
        "colab": {
          "base_uri": "https://localhost:8080/",
          "height": 34
        },
        "outputId": "710b738a-ea0d-4d5c-a21a-8b651fbe5582"
      },
      "source": [
        "import os\n",
        "os.environ['TF_CPP_MIN_LOG_LEVEL'] = '3'\n",
        "import logging\n",
        "import absl.logging\n",
        "logging.root.removeHandler(absl.logging._absl_handler)\n",
        "absl.logging._warn_preinit_stderr = False\n",
        "import tensorflow as tf\n",
        "if tf.test.gpu_device_name():\n",
        "    print('Default GPU Device: {}'.format(tf.test.gpu_device_name()))"
      ],
      "execution_count": 5,
      "outputs": [
        {
          "output_type": "stream",
          "text": [
            "Default GPU Device: /device:GPU:0\n"
          ],
          "name": "stdout"
        }
      ]
    },
    {
      "cell_type": "code",
      "metadata": {
        "id": "GYaGiND_xZgS",
        "colab_type": "code",
        "colab": {}
      },
      "source": [
        "import sys\n",
        "sys.path.append('..')"
      ],
      "execution_count": 0,
      "outputs": []
    },
    {
      "cell_type": "code",
      "metadata": {
        "id": "MG7-Bqh-xkq9",
        "colab_type": "code",
        "colab": {}
      },
      "source": [
        "from src.data.emnist_dataset import EMNIST\n",
        "import numpy as np\n",
        "import matplotlib.pyplot as plt\n",
        "from tqdm import tqdm\n",
        "from collections import defaultdict"
      ],
      "execution_count": 0,
      "outputs": []
    },
    {
      "cell_type": "code",
      "metadata": {
        "id": "zm-AKFNFxoOj",
        "colab_type": "code",
        "colab": {
          "base_uri": "https://localhost:8080/",
          "height": 191
        },
        "outputId": "8c196e20-1f7f-4b27-de62-b18751e2b55a"
      },
      "source": [
        "dataset = EMNIST()\n",
        "(x_train, y_train), (x_test, y_test) = dataset.load_data()"
      ],
      "execution_count": 8,
      "outputs": [
        {
          "output_type": "stream",
          "text": [
            "\r0.00B [00:00, ?B/s]"
          ],
          "name": "stderr"
        },
        {
          "output_type": "stream",
          "text": [
            "[INFO] Downloading raw dataset...\n"
          ],
          "name": "stdout"
        },
        {
          "output_type": "stream",
          "text": [
            "709MB [00:08, 84.8MB/s]                           \n"
          ],
          "name": "stderr"
        },
        {
          "output_type": "stream",
          "text": [
            "[INFO] Download complete..\n",
            "[INFO] Unzipping raw dataset...\n",
            "[INFO] Unzipping complete\n",
            "[INFO] Loading training and test data from .mat file...\n",
            "[INFO] Balancing classes to reduce amount of data...\n",
            "[INFO] Saving to HDF5 in a compressed format...\n",
            "[INFO] Saving essential dataset parameters...\n",
            "[INFO] Cleaning up...\n"
          ],
          "name": "stdout"
        }
      ]
    },
    {
      "cell_type": "code",
      "metadata": {
        "id": "f43fcv-XzNkS",
        "colab_type": "code",
        "colab": {
          "base_uri": "https://localhost:8080/",
          "height": 159
        },
        "outputId": "f5fa50d7-0177-47fb-dba6-4b709e110fc2"
      },
      "source": [
        "print(dataset)\n",
        "print('Training shape:', x_train.shape, y_train.shape)\n",
        "print('Test shape:', x_test.shape, y_test.shape)"
      ],
      "execution_count": 9,
      "outputs": [
        {
          "output_type": "stream",
          "text": [
            "EMNIST Dataset\n",
            "Num classes: 62\n",
            "Mapping: {0: '0', 1: '1', 2: '2', 3: '3', 4: '4', 5: '5', 6: '6', 7: '7', 8: '8', 9: '9', 10: 'A', 11: 'B', 12: 'C', 13: 'D', 14: 'E', 15: 'F', 16: 'G', 17: 'H', 18: 'I', 19: 'J', 20: 'K', 21: 'L', 22: 'M', 23: 'N', 24: 'O', 25: 'P', 26: 'Q', 27: 'R', 28: 'S', 29: 'T', 30: 'U', 31: 'V', 32: 'W', 33: 'X', 34: 'Y', 35: 'Z', 36: 'a', 37: 'b', 38: 'c', 39: 'd', 40: 'e', 41: 'f', 42: 'g', 43: 'h', 44: 'i', 45: 'j', 46: 'k', 47: 'l', 48: 'm', 49: 'n', 50: 'o', 51: 'p', 52: 'q', 53: 'r', 54: 's', 55: 't', 56: 'u', 57: 'v', 58: 'w', 59: 'x', 60: 'y', 61: 'z'}\n",
            "Input shape: [28, 28]\n",
            "\n",
            "Training shape: (336299, 28, 28) (336299, 62)\n",
            "Test shape: (55789, 28, 28) (55789, 62)\n"
          ],
          "name": "stdout"
        }
      ]
    },
    {
      "cell_type": "markdown",
      "metadata": {
        "id": "ovr_B78ds-st",
        "colab_type": "text"
      },
      "source": [
        "## EDA"
      ]
    },
    {
      "cell_type": "code",
      "metadata": {
        "id": "M8RKzcaQs-SC",
        "colab_type": "code",
        "colab": {
          "base_uri": "https://localhost:8080/",
          "height": 288
        },
        "outputId": "80913d28-e4a7-467f-e946-57b92be411cc"
      },
      "source": [
        "classes = dataset.mapping\n",
        "# plot the images in the batch, along with the corresponding labels\n",
        "fig = plt.figure(figsize=(25, 4))\n",
        "rnd_ind = np.random.randint(low=0, high=len(x_train), size=20)\n",
        "\n",
        "for idx, i in enumerate(rnd_ind):\n",
        "    ax = fig.add_subplot(2, 20/2, idx+1, xticks=[], yticks=[])\n",
        "    ax.imshow(x_train[i], cmap='gray')\n",
        "    # print out the correct label for each image\n",
        "    ax.set_title(str(classes[np.where(y_train[i]==1)[0][0]]))"
      ],
      "execution_count": 37,
      "outputs": [
        {
          "output_type": "display_data",
          "data": {
            "image/png": "[encoded data removed]",
            "text/plain": [
              "<Figure size 1800x288 with 20 Axes>"
            ]
          },
          "metadata": {
            "tags": []
          }
        }
      ]
    },
    {
      "cell_type": "code",
      "metadata": {
        "id": "nUjEb3Pn1aOz",
        "colab_type": "code",
        "colab": {
          "base_uri": "https://localhost:8080/",
          "height": 704
        },
        "outputId": "c3eaa146-8871-499f-ffc7-55a279eb2d99"
      },
      "source": [
        "img = x_train[1]\n",
        "\n",
        "fig = plt.figure(figsize = (12,12)) \n",
        "ax = fig.add_subplot(111)\n",
        "ax.imshow(img, cmap='gray')\n",
        "width, height = img.shape\n",
        "thresh = img.max()/2.5\n",
        "for x in range(width):\n",
        "    for y in range(height):\n",
        "        val = round(img[x][y],2) if img[x][y] !=0 else 0\n",
        "        ax.annotate(str(val), xy=(y,x),\n",
        "                    horizontalalignment='center',\n",
        "                    verticalalignment='center',\n",
        "                    color='white' if img[x][y]<thresh else 'black')"
      ],
      "execution_count": 38,
      "outputs": [
        {
          "output_type": "display_data",
          "data": {
            "image/png": "[encoded data removed]",
            "text/plain": [
              "<Figure size 864x864 with 1 Axes>"
            ]
          },
          "metadata": {
            "tags": []
          }
        }
      ]
    },
    {
      "cell_type": "code",
      "metadata": {
        "id": "gm7iIb7zQCKm",
        "colab_type": "code",
        "colab": {}
      },
      "source": [
        "def distribution(labels, classes):\n",
        "    \n",
        "    lbl_dist = dict.fromkeys(value for key,value in classes.items())\n",
        "    lbl_dist = defaultdict(lambda:1)\n",
        "    for idx in tqdm(range(len(labels))):\n",
        "        lbl_dist[classes[np.where(labels[idx]==1)[0][0]]] += 1\n",
        "    return lbl_dist"
      ],
      "execution_count": 0,
      "outputs": []
    },
    {
      "cell_type": "code",
      "metadata": {
        "id": "oqpidalSRQ6W",
        "colab_type": "code",
        "colab": {
          "base_uri": "https://localhost:8080/",
          "height": 1000
        },
        "outputId": "644ef08a-d119-40b3-e377-1a294a67b3db"
      },
      "source": [
        "distribution(y_train, classes)"
      ],
      "execution_count": 40,
      "outputs": [
        {
          "output_type": "stream",
          "text": [
            "100%|██████████| 336299/336299 [00:00<00:00, 387963.61it/s]\n"
          ],
          "name": "stderr"
        },
        {
          "output_type": "execute_result",
          "data": {
            "text/plain": [
              "defaultdict(<function __main__.distribution.<locals>.<lambda>>,\n",
              "            {'0': 9635,\n",
              "             '1': 9712,\n",
              "             '2': 9584,\n",
              "             '3': 9612,\n",
              "             '4': 9627,\n",
              "             '5': 9446,\n",
              "             '6': 9567,\n",
              "             '7': 9627,\n",
              "             '8': 9587,\n",
              "             '9': 9570,\n",
              "             'A': 5333,\n",
              "             'B': 3670,\n",
              "             'C': 6828,\n",
              "             'D': 4191,\n",
              "             'E': 4414,\n",
              "             'F': 6458,\n",
              "             'G': 2488,\n",
              "             'H': 3064,\n",
              "             'I': 7267,\n",
              "             'J': 3565,\n",
              "             'K': 2439,\n",
              "             'L': 4539,\n",
              "             'M': 6416,\n",
              "             'N': 6144,\n",
              "             'O': 9159,\n",
              "             'P': 6210,\n",
              "             'Q': 2577,\n",
              "             'R': 4526,\n",
              "             'S': 8660,\n",
              "             'T': 6737,\n",
              "             'U': 7463,\n",
              "             'V': 4240,\n",
              "             'W': 4285,\n",
              "             'X': 2714,\n",
              "             'Y': 4304,\n",
              "             'Z': 2660,\n",
              "             'a': 6757,\n",
              "             'b': 4566,\n",
              "             'c': 2793,\n",
              "             'd': 6808,\n",
              "             'e': 9054,\n",
              "             'f': 2528,\n",
              "             'g': 3515,\n",
              "             'h': 6322,\n",
              "             'i': 2678,\n",
              "             'j': 1892,\n",
              "             'k': 2465,\n",
              "             'l': 8021,\n",
              "             'm': 2613,\n",
              "             'n': 7140,\n",
              "             'o': 2704,\n",
              "             'p': 2421,\n",
              "             'q': 2911,\n",
              "             'r': 7717,\n",
              "             's': 2645,\n",
              "             't': 8422,\n",
              "             'u': 2791,\n",
              "             'v': 2841,\n",
              "             'w': 2650,\n",
              "             'x': 2761,\n",
              "             'y': 2344,\n",
              "             'z': 2684})"
            ]
          },
          "metadata": {
            "tags": []
          },
          "execution_count": 40
        }
      ]
    },
    {
      "cell_type": "code",
      "metadata": {
        "id": "bh1nVbHkRUdg",
        "colab_type": "code",
        "colab": {
          "base_uri": "https://localhost:8080/",
          "height": 1000
        },
        "outputId": "b145fdae-b18d-4ee9-8a15-07574dc9b310"
      },
      "source": [
        "distribution(y_test, classes)"
      ],
      "execution_count": 41,
      "outputs": [
        {
          "output_type": "stream",
          "text": [
            "100%|██████████| 55789/55789 [00:00<00:00, 358730.05it/s]\n"
          ],
          "name": "stderr"
        },
        {
          "output_type": "execute_result",
          "data": {
            "text/plain": [
              "defaultdict(<function __main__.distribution.<locals>.<lambda>>,\n",
              "            {'0': 1603,\n",
              "             '1': 1605,\n",
              "             '2': 1573,\n",
              "             '3': 1598,\n",
              "             '4': 1613,\n",
              "             '5': 1563,\n",
              "             '6': 1602,\n",
              "             '7': 1603,\n",
              "             '8': 1611,\n",
              "             '9': 1624,\n",
              "             'A': 883,\n",
              "             'B': 619,\n",
              "             'C': 1145,\n",
              "             'D': 713,\n",
              "             'E': 750,\n",
              "             'F': 1037,\n",
              "             'G': 439,\n",
              "             'H': 504,\n",
              "             'I': 1219,\n",
              "             'J': 598,\n",
              "             'K': 381,\n",
              "             'L': 738,\n",
              "             'M': 1053,\n",
              "             'N': 1016,\n",
              "             'O': 1476,\n",
              "             'P': 1014,\n",
              "             'Q': 412,\n",
              "             'R': 725,\n",
              "             'S': 1441,\n",
              "             'T': 1104,\n",
              "             'U': 1234,\n",
              "             'V': 732,\n",
              "             'W': 739,\n",
              "             'X': 429,\n",
              "             'Y': 717,\n",
              "             'Z': 456,\n",
              "             'a': 1110,\n",
              "             'b': 759,\n",
              "             'c': 428,\n",
              "             'd': 1133,\n",
              "             'e': 1516,\n",
              "             'f': 399,\n",
              "             'g': 561,\n",
              "             'h': 1067,\n",
              "             'i': 423,\n",
              "             'j': 317,\n",
              "             'k': 453,\n",
              "             'l': 1341,\n",
              "             'm': 456,\n",
              "             'n': 1212,\n",
              "             'o': 456,\n",
              "             'p': 366,\n",
              "             'q': 500,\n",
              "             'r': 1307,\n",
              "             's': 433,\n",
              "             't': 1382,\n",
              "             'u': 469,\n",
              "             'v': 457,\n",
              "             'w': 457,\n",
              "             'x': 455,\n",
              "             'y': 378,\n",
              "             'z': 447})"
            ]
          },
          "metadata": {
            "tags": []
          },
          "execution_count": 41
        }
      ]
    },
    {
      "cell_type": "code",
      "metadata": {
        "colab_type": "code",
        "outputId": "d9aa19eb-875d-46f5-c090-e84eb6f54bc4",
        "id": "OWiUioAuV-KZ",
        "colab": {
          "base_uri": "https://localhost:8080/",
          "height": 34
        }
      },
      "source": [
        "%%writefile ../src/training/util.py\n",
        "\n",
        "\"\"\"Function to train a model.\"\"\"\n",
        "\n",
        "from __future__ import absolute_import\n",
        "from __future__ import division\n",
        "from __future__ import print_function\n",
        "\n",
        "import time\n",
        "#from tensorflow.keras.callbacks import EarlyStopping\n",
        "from keras.callbacks import EarlyStopping\n",
        "from src.data.dataset import Dataset\n",
        "from src.models.base_model import Model\n",
        "from pathlib import Path\n",
        "import numpy as np\n",
        "import sys\n",
        "sys.path.append(str(Path(__file__).resolve().parents[2]))\n",
        "from src.visualization.visualize import plot_history, save_model\n",
        "from src.clr_callback import CyclicLR\n",
        "from src.training.lr_find import LearningRateFinder\n",
        "import matplotlib.pyplot as plt\n",
        "\n",
        "EARLY_STOPPING = True\n",
        "CYCLIC_LR = True\n",
        "# adjust min_lr and max_lr after plotting lr_find\n",
        "MIN_LR = 1e-4\n",
        "MAX_LR = 1e-2\n",
        "STEP_SIZE = 8\n",
        "MODE = \"triangular2\"\n",
        "SAVE_LR_PLOT = '../models/'\n",
        "\n",
        "def train_model(\n",
        "        model: Model,\n",
        "        dataset: Dataset,\n",
        "        epochs: int,\n",
        "        batch_size: int,\n",
        "        name : str,\n",
        "        FIND_LR : bool = False) -> Model:\n",
        "    \"\"\"Train model.\"\"\"\n",
        "    callbacks = []\n",
        "\n",
        "    if FIND_LR :\n",
        "        # initialize the learning rate finder and then train with learning\n",
        "        # rates ranging from 1e-10 to 1e+1\n",
        "        print(\"[INFO] finding learning rate...\")\n",
        "        lrf = LearningRateFinder(model)\n",
        "        lrf.find(\n",
        "            dataset,\n",
        "            1e-10, \n",
        "            1e+1,\n",
        "            stepsPerEpoch=np.ceil((len(dataset['x_train']) / float(batch_size))),\n",
        "            batchSize=batch_size)\n",
        "\n",
        "        # plot the loss for the various learning rates and save the\n",
        "        # resulting plot to disk\n",
        "        lrf.plot_loss()\n",
        "        plt.show()\n",
        "        plt.savefig(SAVE_LR_PLOT + str(name) + '_lr.png')\n",
        "\n",
        "        # gracefully exit the script so we can adjust our learning rates\n",
        "        # in the config and then train the network for our full set of\n",
        "        # epochs\n",
        "        print(\"[INFO] learning rate finder complete\")\n",
        "        print(\"[INFO] examine plot and adjust learning rates before training\")\n",
        "        sys.exit(0)\n",
        "\n",
        "    else:\n",
        "        if EARLY_STOPPING:\n",
        "            early_stopping = EarlyStopping(monitor='val_loss', min_delta=0.01, \n",
        "                            patience=3, verbose=1, restore_best_weights=True)\n",
        "            callbacks.append(early_stopping)\n",
        "\n",
        "        if CYCLIC_LR:\n",
        "            cyclic_lr = CyclicLR(base_lr=MIN_LR, max_lr=MAX_LR,\n",
        "                                step_size=STEP_SIZE * (dataset['x_train'].shape[0] // batch_size), \n",
        "                                mode=MODE)\n",
        "            callbacks.append(cyclic_lr)\n",
        "\n",
        "        model.network.summary()\n",
        "\n",
        "        t = time.time()\n",
        "        _history = model.fit(dataset=dataset, \n",
        "                            batch_size=batch_size, \n",
        "                            epochs=epochs, \n",
        "                            callbacks=callbacks,\n",
        "                            lr=MIN_LR)\n",
        "        print('[INFO] Training took {:2f} s'.format(time.time() - t))\n",
        "\n",
        "        plot_history(_history, name)\n",
        "        save_model(model.network, name)\n",
        "\n",
        "        return model\n",
        "\n",
        "\n",
        "\n"
      ],
      "execution_count": 52,
      "outputs": [
        {
          "output_type": "stream",
          "text": [
            "Overwriting ../src/training/util.py\n"
          ],
          "name": "stdout"
        }
      ]
    },
    {
      "cell_type": "code",
      "metadata": {
        "id": "n4Mw6epNdHAV",
        "colab_type": "code",
        "colab": {}
      },
      "source": [
        "from numpy.random import seed\n",
        "seed(42)\n",
        "from tensorflow import set_random_seed\n",
        "set_random_seed(42)"
      ],
      "execution_count": 0,
      "outputs": []
    },
    {
      "cell_type": "code",
      "metadata": {
        "id": "u0mHqNXIdHMI",
        "colab_type": "code",
        "colab": {}
      },
      "source": [
        ""
      ],
      "execution_count": 0,
      "outputs": []
    },
    {
      "cell_type": "markdown",
      "metadata": {
        "id": "Q2LQHKpHs_5i",
        "colab_type": "text"
      },
      "source": [
        "## Training"
      ]
    },
    {
      "cell_type": "code",
      "metadata": {
        "id": "ss7Aurosn2-P",
        "colab_type": "code",
        "outputId": "5d4f7999-c6d7-4d9e-acb1-166a72ee831c",
        "colab": {
          "base_uri": "https://localhost:8080/",
          "height": 957
        }
      },
      "source": [
        "! python ../src/training/train_model.py -b 2048 -n lenet -find_lr True"
      ],
      "execution_count": 0,
      "outputs": [
        {
          "output_type": "stream",
          "text": [
            "Using TensorFlow backend.\n",
            "[INFO] Getting dataset...\n",
            "[INFO] Training shape:  (336299, 28, 28) (336299, 62)\n",
            "[INFO] Validation shape:  (5579, 28, 28) (5579, 62)\n",
            "[INFO] Test shape:  (50210, 28, 28) (50210, 62)\n",
            "[INFO] Setting up the model..\n",
            "WARNING: Logging before flag parsing goes to stderr.\n",
            "W0808 12:42:40.831221 139727442515840 deprecation_wrapper.py:119] From /usr/local/lib/python3.6/dist-packages/keras/backend/tensorflow_backend.py:74: The name tf.get_default_graph is deprecated. Please use tf.compat.v1.get_default_graph instead.\n",
            "\n",
            "W0808 12:42:40.841866 139727442515840 deprecation_wrapper.py:119] From /usr/local/lib/python3.6/dist-packages/keras/backend/tensorflow_backend.py:517: The name tf.placeholder is deprecated. Please use tf.compat.v1.placeholder instead.\n",
            "\n",
            "W0808 12:42:40.846755 139727442515840 deprecation_wrapper.py:119] From /usr/local/lib/python3.6/dist-packages/keras/backend/tensorflow_backend.py:4138: The name tf.random_uniform is deprecated. Please use tf.random.uniform instead.\n",
            "\n",
            "W0808 12:42:40.869258 139727442515840 deprecation_wrapper.py:119] From /usr/local/lib/python3.6/dist-packages/keras/backend/tensorflow_backend.py:3976: The name tf.nn.max_pool is deprecated. Please use tf.nn.max_pool2d instead.\n",
            "\n",
            "W0808 12:42:40.870520 139727442515840 deprecation_wrapper.py:119] From /usr/local/lib/python3.6/dist-packages/keras/backend/tensorflow_backend.py:133: The name tf.placeholder_with_default is deprecated. Please use tf.compat.v1.placeholder_with_default instead.\n",
            "\n",
            "W0808 12:42:40.876126 139727442515840 deprecation.py:506] From /usr/local/lib/python3.6/dist-packages/keras/backend/tensorflow_backend.py:3445: calling dropout (from tensorflow.python.ops.nn_ops) with keep_prob is deprecated and will be removed in a future version.\n",
            "Instructions for updating:\n",
            "Please use `rate` instead of `keep_prob`. Rate should be set to `rate = 1 - keep_prob`.\n",
            "<src.models.character_model.Character_Model object at 0x7f149ba21fd0>\n",
            "[INFO] finding learning rate...\n",
            "W0808 12:42:40.942969 139727442515840 deprecation_wrapper.py:119] From /usr/local/lib/python3.6/dist-packages/keras/optimizers.py:790: The name tf.train.Optimizer is deprecated. Please use tf.compat.v1.train.Optimizer instead.\n",
            "\n",
            "W0808 12:42:40.948634 139727442515840 deprecation_wrapper.py:119] From /usr/local/lib/python3.6/dist-packages/keras/backend/tensorflow_backend.py:3295: The name tf.log is deprecated. Please use tf.math.log instead.\n",
            "\n",
            "Number: 165 3\n",
            "W0808 12:42:41.044360 139727442515840 deprecation.py:323] From /usr/local/lib/python3.6/dist-packages/tensorflow/python/ops/math_grad.py:1250: add_dispatch_support.<locals>.wrapper (from tensorflow.python.ops.array_ops) is deprecated and will be removed in a future version.\n",
            "Instructions for updating:\n",
            "Use tf.where in 2.0, which has the same broadcast rule as np.where\n",
            "Epoch 1/13\n",
            " - 55s - loss: 4.1325 - acc: 0.0155 - val_loss: 4.1283 - val_acc: 0.0113\n",
            "Epoch 2/13\n",
            " - 49s - loss: 4.1324 - acc: 0.0152 - val_loss: 4.1283 - val_acc: 0.0113\n",
            "Epoch 3/13\n",
            " - 50s - loss: 4.1323 - acc: 0.0150 - val_loss: 4.1280 - val_acc: 0.0113\n",
            "Epoch 4/13\n",
            " - 50s - loss: 4.1311 - acc: 0.0151 - val_loss: 4.1260 - val_acc: 0.0117\n",
            "Epoch 5/13\n",
            " - 49s - loss: 4.1257 - acc: 0.0172 - val_loss: 4.1125 - val_acc: 0.0255\n",
            "Epoch 6/13\n",
            " - 50s - loss: 4.0856 - acc: 0.0347 - val_loss: 4.0054 - val_acc: 0.0679\n",
            "Epoch 7/13\n",
            " - 50s - loss: 3.6877 - acc: 0.1440 - val_loss: 2.7630 - val_acc: 0.4103\n",
            "Epoch 8/13\n",
            " - 50s - loss: 2.3595 - acc: 0.3943 - val_loss: 1.4223 - val_acc: 0.6076\n",
            "Epoch 9/13\n",
            " - 50s - loss: 1.4015 - acc: 0.5812 - val_loss: 1.1256 - val_acc: 0.6333\n",
            "Epoch 10/13\n",
            " - 50s - loss: 1.5142 - acc: 0.5947 - val_loss: 1.1289 - val_acc: 0.6612\n",
            "Epoch 11/13\n",
            "[INFO] learning rate finder complete\n",
            "[INFO] examine plot and adjust learning rates before training\n"
          ],
          "name": "stdout"
        }
      ]
    },
    {
      "cell_type": "code",
      "metadata": {
        "id": "lm3eXOnFSs95",
        "colab_type": "code",
        "outputId": "93daed42-5316-4497-97a4-b92f59bd3a89",
        "colab": {
          "base_uri": "https://localhost:8080/",
          "height": 1000
        }
      },
      "source": [
        "#without using cylic lr\n",
        "! python ../src/training/train_model.py -b 2048 -e 50 -n lenet"
      ],
      "execution_count": 51,
      "outputs": [
        {
          "output_type": "stream",
          "text": [
            "Using TensorFlow backend.\n",
            "[INFO] Getting dataset...\n",
            "[INFO] Training shape:  (336299, 28, 28) (336299, 62)\n",
            "[INFO] Validation shape:  (5579, 28, 28) (5579, 62)\n",
            "[INFO] Test shape:  (50210, 28, 28) (50210, 62)\n",
            "[INFO] Setting up the model..\n",
            "WARNING: Logging before flag parsing goes to stderr.\n",
            "W0808 17:32:28.820773 139684350019456 deprecation_wrapper.py:119] From /usr/local/lib/python3.6/dist-packages/keras/backend/tensorflow_backend.py:74: The name tf.get_default_graph is deprecated. Please use tf.compat.v1.get_default_graph instead.\n",
            "\n",
            "W0808 17:32:28.831486 139684350019456 deprecation_wrapper.py:119] From /usr/local/lib/python3.6/dist-packages/keras/backend/tensorflow_backend.py:517: The name tf.placeholder is deprecated. Please use tf.compat.v1.placeholder instead.\n",
            "\n",
            "W0808 17:32:28.836225 139684350019456 deprecation_wrapper.py:119] From /usr/local/lib/python3.6/dist-packages/keras/backend/tensorflow_backend.py:4138: The name tf.random_uniform is deprecated. Please use tf.random.uniform instead.\n",
            "\n",
            "W0808 17:32:28.857489 139684350019456 deprecation_wrapper.py:119] From /usr/local/lib/python3.6/dist-packages/keras/backend/tensorflow_backend.py:3976: The name tf.nn.max_pool is deprecated. Please use tf.nn.max_pool2d instead.\n",
            "\n",
            "W0808 17:32:28.858714 139684350019456 deprecation_wrapper.py:119] From /usr/local/lib/python3.6/dist-packages/keras/backend/tensorflow_backend.py:133: The name tf.placeholder_with_default is deprecated. Please use tf.compat.v1.placeholder_with_default instead.\n",
            "\n",
            "W0808 17:32:28.864250 139684350019456 deprecation.py:506] From /usr/local/lib/python3.6/dist-packages/keras/backend/tensorflow_backend.py:3445: calling dropout (from tensorflow.python.ops.nn_ops) with keep_prob is deprecated and will be removed in a future version.\n",
            "Instructions for updating:\n",
            "Please use `rate` instead of `keep_prob`. Rate should be set to `rate = 1 - keep_prob`.\n",
            "<src.models.character_model.Character_Model object at 0x7f0a931effd0>\n",
            "COMET INFO: Experiment is live on comet.ml https://www.comet.ml/dudeperf3ct/emnist/3e054f04c4ff4bc18ffbc7845aabb286\n",
            "\n",
            "[INFO] Starting Training...\n",
            "_________________________________________________________________\n",
            "Layer (type)                 Output Shape              Param #   \n",
            "=================================================================\n",
            "lambda_1 (Lambda)            (None, 28, 28, 1)         0         \n",
            "_________________________________________________________________\n",
            "conv2d_1 (Conv2D)            (None, 26, 26, 32)        320       \n",
            "_________________________________________________________________\n",
            "conv2d_2 (Conv2D)            (None, 24, 24, 64)        18496     \n",
            "_________________________________________________________________\n",
            "max_pooling2d_1 (MaxPooling2 (None, 12, 12, 64)        0         \n",
            "_________________________________________________________________\n",
            "dropout_1 (Dropout)          (None, 12, 12, 64)        0         \n",
            "_________________________________________________________________\n",
            "flatten_1 (Flatten)          (None, 9216)              0         \n",
            "_________________________________________________________________\n",
            "dense_1 (Dense)              (None, 128)               1179776   \n",
            "_________________________________________________________________\n",
            "dropout_2 (Dropout)          (None, 128)               0         \n",
            "_________________________________________________________________\n",
            "dense_2 (Dense)              (None, 62)                7998      \n",
            "=================================================================\n",
            "Total params: 1,206,590\n",
            "Trainable params: 1,206,590\n",
            "Non-trainable params: 0\n",
            "_________________________________________________________________\n",
            "W0808 17:32:30.607902 139684350019456 deprecation_wrapper.py:119] From /usr/local/lib/python3.6/dist-packages/keras/optimizers.py:790: The name tf.train.Optimizer is deprecated. Please use tf.compat.v1.train.Optimizer instead.\n",
            "\n",
            "W0808 17:32:30.615482 139684350019456 deprecation_wrapper.py:119] From /usr/local/lib/python3.6/dist-packages/keras/backend/tensorflow_backend.py:3295: The name tf.log is deprecated. Please use tf.math.log instead.\n",
            "\n",
            "Number: 165 3\n",
            "W0808 17:32:30.711574 139684350019456 deprecation.py:323] From /usr/local/lib/python3.6/dist-packages/tensorflow/python/ops/math_grad.py:1250: add_dispatch_support.<locals>.wrapper (from tensorflow.python.ops.array_ops) is deprecated and will be removed in a future version.\n",
            "Instructions for updating:\n",
            "Use tf.where in 2.0, which has the same broadcast rule as np.where\n",
            "Epoch 1/50\n",
            " - 52s - loss: 1.7470 - acc: 0.5139 - val_loss: 0.8244 - val_acc: 0.7358\n",
            "Epoch 2/50\n",
            " - 47s - loss: 0.9550 - acc: 0.6884 - val_loss: 0.6524 - val_acc: 0.7612\n",
            "Epoch 3/50\n",
            " - 47s - loss: 0.8130 - acc: 0.7250 - val_loss: 0.5915 - val_acc: 0.7790\n",
            "Epoch 4/50\n",
            " - 47s - loss: 0.7529 - acc: 0.7406 - val_loss: 0.5621 - val_acc: 0.7889\n",
            "Epoch 5/50\n",
            " - 47s - loss: 0.7170 - acc: 0.7512 - val_loss: 0.5470 - val_acc: 0.7887\n",
            "Epoch 6/50\n",
            " - 47s - loss: 0.6920 - acc: 0.7579 - val_loss: 0.5384 - val_acc: 0.7953\n",
            "Epoch 7/50\n",
            " - 47s - loss: 0.6723 - acc: 0.7641 - val_loss: 0.5348 - val_acc: 0.7939\n",
            "Epoch 8/50\n",
            " - 47s - loss: 0.6556 - acc: 0.7679 - val_loss: 0.5188 - val_acc: 0.8003\n",
            "Epoch 9/50\n",
            " - 47s - loss: 0.6420 - acc: 0.7704 - val_loss: 0.5186 - val_acc: 0.7946\n",
            "Epoch 10/50\n",
            " - 47s - loss: 0.6316 - acc: 0.7730 - val_loss: 0.5138 - val_acc: 0.8003\n",
            "Epoch 11/50\n",
            " - 47s - loss: 0.6216 - acc: 0.7762 - val_loss: 0.5133 - val_acc: 0.8041\n",
            "Restoring model weights from the end of the best epoch\n",
            "Epoch 00011: early stopping\n",
            "[INFO] Training took 523.912900 s\n",
            "[INFO] Starting Testing...\n",
            "[INFO] Test evaluation: 61.983668568884084\n",
            "COMET INFO: ----------------------------\n",
            "COMET INFO: Comet.ml Experiment Summary:\n",
            "COMET INFO:   Data:\n",
            "COMET INFO:     url: https://www.comet.ml/dudeperf3ct/emnist/3e054f04c4ff4bc18ffbc7845aabb286\n",
            "COMET INFO:   Metrics [count] (min, max):\n",
            "COMET INFO:     sys.gpu.0.free_memory               : (7119765504.0, 7119765504.0)\n",
            "COMET INFO:     sys.gpu.0.gpu_utilization           : (0.0, 0.0)\n",
            "COMET INFO:     sys.gpu.0.total_memory              : (15812263936.0, 15812263936.0)\n",
            "COMET INFO:     sys.gpu.0.used_memory               : (8692498432.0, 8692498432.0)\n",
            "COMET INFO:     test_accuracy                       : (0.6198366856888409, 0.6198366856888409)\n",
            "COMET INFO:     test_loss                           : (1.3115761779689428, 1.3115761779689428)\n",
            "COMET INFO:     train_acc [21]                      : (0.5133556745577378, 0.7759672196097599)\n",
            "COMET INFO:     train_batch_acc [373]               : (0.01025390625, 0.79052734375)\n",
            "COMET INFO:     train_batch_loss [373]              : (0.5765188336372375, 4.130983829498291)\n",
            "COMET INFO:     train_epoch_duration [21]           : (46.96947811800055, 51.654339504000745)\n",
            "COMET INFO:     train_loss [21]                     : (0.6218425751326521, 1.7499224185752897)\n",
            "COMET INFO:     train_step                          : 1815\n",
            "COMET INFO:     train_sys.gpu.0.free_memory [15]    : (2683240448.0, 2683240448.0)\n",
            "COMET INFO:     train_sys.gpu.0.gpu_utilization [15]: (25.0, 32.0)\n",
            "COMET INFO:     train_sys.gpu.0.used_memory [15]    : (13129023488.0, 13129023488.0)\n",
            "COMET INFO:     train_val_acc [21]                  : (0.7357949418478017, 0.8040867572318783)\n",
            "COMET INFO:     train_val_loss [21]                 : (0.51325153987197, 0.8243994348727368)\n",
            "COMET INFO:   Other [count]:\n",
            "COMET INFO:     train_trainable_params: 1206590\n",
            "COMET INFO: ----------------------------\n",
            "COMET INFO: Uploading stats to Comet before program termination (may take several seconds)\n",
            "[INFO] Weights saved at /content/TextRecognizer/Experiment-1/models/Character_Model_EMNIST_lenet_weights.h5\n"
          ],
          "name": "stdout"
        }
      ]
    },
    {
      "cell_type": "code",
      "metadata": {
        "id": "3MJMFJbbze7S",
        "colab_type": "code",
        "outputId": "d23c416e-cd9d-4030-92f3-7e14914f700e",
        "colab": {
          "base_uri": "https://localhost:8080/",
          "height": 1000
        }
      },
      "source": [
        "#1e-4 1e-2 with cyclic lr\n",
        "! python ../src/training/train_model.py -b 2048 -e 50 -n lenet"
      ],
      "execution_count": 53,
      "outputs": [
        {
          "output_type": "stream",
          "text": [
            "Using TensorFlow backend.\n",
            "[INFO] Getting dataset...\n",
            "[INFO] Training shape:  (336299, 28, 28) (336299, 62)\n",
            "[INFO] Validation shape:  (5579, 28, 28) (5579, 62)\n",
            "[INFO] Test shape:  (50210, 28, 28) (50210, 62)\n",
            "[INFO] Setting up the model..\n",
            "WARNING: Logging before flag parsing goes to stderr.\n",
            "W0808 17:48:42.400245 140073509836672 deprecation_wrapper.py:119] From /usr/local/lib/python3.6/dist-packages/keras/backend/tensorflow_backend.py:74: The name tf.get_default_graph is deprecated. Please use tf.compat.v1.get_default_graph instead.\n",
            "\n",
            "W0808 17:48:42.410933 140073509836672 deprecation_wrapper.py:119] From /usr/local/lib/python3.6/dist-packages/keras/backend/tensorflow_backend.py:517: The name tf.placeholder is deprecated. Please use tf.compat.v1.placeholder instead.\n",
            "\n",
            "W0808 17:48:42.415996 140073509836672 deprecation_wrapper.py:119] From /usr/local/lib/python3.6/dist-packages/keras/backend/tensorflow_backend.py:4138: The name tf.random_uniform is deprecated. Please use tf.random.uniform instead.\n",
            "\n",
            "W0808 17:48:42.437400 140073509836672 deprecation_wrapper.py:119] From /usr/local/lib/python3.6/dist-packages/keras/backend/tensorflow_backend.py:3976: The name tf.nn.max_pool is deprecated. Please use tf.nn.max_pool2d instead.\n",
            "\n",
            "W0808 17:48:42.438570 140073509836672 deprecation_wrapper.py:119] From /usr/local/lib/python3.6/dist-packages/keras/backend/tensorflow_backend.py:133: The name tf.placeholder_with_default is deprecated. Please use tf.compat.v1.placeholder_with_default instead.\n",
            "\n",
            "W0808 17:48:42.444257 140073509836672 deprecation.py:506] From /usr/local/lib/python3.6/dist-packages/keras/backend/tensorflow_backend.py:3445: calling dropout (from tensorflow.python.ops.nn_ops) with keep_prob is deprecated and will be removed in a future version.\n",
            "Instructions for updating:\n",
            "Please use `rate` instead of `keep_prob`. Rate should be set to `rate = 1 - keep_prob`.\n",
            "<src.models.character_model.Character_Model object at 0x7f652edbe128>\n",
            "COMET INFO: Experiment is live on comet.ml https://www.comet.ml/dudeperf3ct/emnist/da874eab70334c8380b90c1ab335afaa\n",
            "\n",
            "[INFO] Starting Training...\n",
            "_________________________________________________________________\n",
            "Layer (type)                 Output Shape              Param #   \n",
            "=================================================================\n",
            "lambda_1 (Lambda)            (None, 28, 28, 1)         0         \n",
            "_________________________________________________________________\n",
            "conv2d_1 (Conv2D)            (None, 26, 26, 32)        320       \n",
            "_________________________________________________________________\n",
            "conv2d_2 (Conv2D)            (None, 24, 24, 64)        18496     \n",
            "_________________________________________________________________\n",
            "max_pooling2d_1 (MaxPooling2 (None, 12, 12, 64)        0         \n",
            "_________________________________________________________________\n",
            "dropout_1 (Dropout)          (None, 12, 12, 64)        0         \n",
            "_________________________________________________________________\n",
            "flatten_1 (Flatten)          (None, 9216)              0         \n",
            "_________________________________________________________________\n",
            "dense_1 (Dense)              (None, 128)               1179776   \n",
            "_________________________________________________________________\n",
            "dropout_2 (Dropout)          (None, 128)               0         \n",
            "_________________________________________________________________\n",
            "dense_2 (Dense)              (None, 62)                7998      \n",
            "=================================================================\n",
            "Total params: 1,206,590\n",
            "Trainable params: 1,206,590\n",
            "Non-trainable params: 0\n",
            "_________________________________________________________________\n",
            "W0808 17:48:44.389487 140073509836672 deprecation_wrapper.py:119] From /usr/local/lib/python3.6/dist-packages/keras/optimizers.py:790: The name tf.train.Optimizer is deprecated. Please use tf.compat.v1.train.Optimizer instead.\n",
            "\n",
            "W0808 17:48:44.396577 140073509836672 deprecation_wrapper.py:119] From /usr/local/lib/python3.6/dist-packages/keras/backend/tensorflow_backend.py:3295: The name tf.log is deprecated. Please use tf.math.log instead.\n",
            "\n",
            "Number: 165 3\n",
            "W0808 17:48:44.497330 140073509836672 deprecation.py:323] From /usr/local/lib/python3.6/dist-packages/tensorflow/python/ops/math_grad.py:1250: add_dispatch_support.<locals>.wrapper (from tensorflow.python.ops.array_ops) is deprecated and will be removed in a future version.\n",
            "Instructions for updating:\n",
            "Use tf.where in 2.0, which has the same broadcast rule as np.where\n",
            "Epoch 1/50\n",
            " - 52s - loss: 2.2999 - acc: 0.4021 - val_loss: 1.0650 - val_acc: 0.6743\n",
            "Epoch 2/50\n",
            " - 47s - loss: 1.0582 - acc: 0.6618 - val_loss: 0.6771 - val_acc: 0.7471\n",
            "Epoch 3/50\n",
            " - 48s - loss: 0.8294 - acc: 0.7188 - val_loss: 0.6212 - val_acc: 0.7648\n",
            "Epoch 4/50\n",
            " - 48s - loss: 0.7632 - acc: 0.7350 - val_loss: 0.5761 - val_acc: 0.7747\n",
            "Epoch 5/50\n",
            " - 48s - loss: 0.7286 - acc: 0.7435 - val_loss: 0.5859 - val_acc: 0.7750\n",
            "Epoch 6/50\n",
            " - 48s - loss: 0.7092 - acc: 0.7489 - val_loss: 0.5567 - val_acc: 0.7733\n",
            "Epoch 7/50\n",
            " - 48s - loss: 0.6947 - acc: 0.7525 - val_loss: 0.6416 - val_acc: 0.7586\n",
            "Epoch 8/50\n",
            " - 48s - loss: 0.6989 - acc: 0.7523 - val_loss: 0.5733 - val_acc: 0.7693\n",
            "Epoch 9/50\n",
            " - 48s - loss: 0.6762 - acc: 0.7587 - val_loss: 0.5529 - val_acc: 0.7901\n",
            "Restoring model weights from the end of the best epoch\n",
            "Epoch 00009: early stopping\n",
            "[INFO] Training took 435.935262 s\n",
            "[INFO] Starting Testing...\n",
            "[INFO] Test evaluation: 75.0009958140049\n",
            "COMET INFO: ----------------------------\n",
            "COMET INFO: Comet.ml Experiment Summary:\n",
            "COMET INFO:   Data:\n",
            "COMET INFO:     url: https://www.comet.ml/dudeperf3ct/emnist/da874eab70334c8380b90c1ab335afaa\n",
            "COMET INFO:   Metrics [count] (min, max):\n",
            "COMET INFO:     sys.gpu.0.free_memory               : (7119765504.0, 7119765504.0)\n",
            "COMET INFO:     sys.gpu.0.gpu_utilization           : (0.0, 0.0)\n",
            "COMET INFO:     sys.gpu.0.total_memory              : (15812263936.0, 15812263936.0)\n",
            "COMET INFO:     sys.gpu.0.used_memory               : (8692498432.0, 8692498432.0)\n",
            "COMET INFO:     test_accuracy                       : (0.750009958140049, 0.750009958140049)\n",
            "COMET INFO:     test_loss                           : (0.6977121988821495, 0.6977121988821495)\n",
            "COMET INFO:     train_acc [17]                      : (0.40120250136041674, 0.7586076676013777)\n",
            "COMET INFO:     train_batch_acc [305]               : (0.01025390625, 0.7822265625)\n",
            "COMET INFO:     train_batch_loss [305]              : (0.6163990497589111, 4.130983829498291)\n",
            "COMET INFO:     train_epoch_duration [17]           : (47.43953366799906, 51.58243425399996)\n",
            "COMET INFO:     train_loss [17]                     : (0.6765782901548316, 2.30415776100473)\n",
            "COMET INFO:     train_step                          : 1485\n",
            "COMET INFO:     train_sys.gpu.0.free_memory [13]    : (2683240448.0, 2683240448.0)\n",
            "COMET INFO:     train_sys.gpu.0.gpu_utilization [13]: (24.0, 32.0)\n",
            "COMET INFO:     train_sys.gpu.0.used_memory [13]    : (13129023488.0, 13129023488.0)\n",
            "COMET INFO:     train_val_acc [17]                  : (0.6743143901087345, 0.7901057518816994)\n",
            "COMET INFO:     train_val_loss [17]                 : (0.5528981884676702, 1.0649981250000546)\n",
            "COMET INFO:   Other [count]:\n",
            "COMET INFO:     train_trainable_params: 1206590\n",
            "COMET INFO: ----------------------------\n",
            "COMET INFO: Uploading stats to Comet before program termination (may take several seconds)\n",
            "COMET INFO: Still uploading\n",
            "[INFO] Weights saved at /content/TextRecognizer/Experiment-1/models/Character_Model_EMNIST_lenet_weights.h5\n"
          ],
          "name": "stdout"
        }
      ]
    },
    {
      "cell_type": "code",
      "metadata": {
        "id": "cEkutM6t_FXA",
        "colab_type": "code",
        "outputId": "eec371dd-8cfe-491e-c127-fb7be33bc026",
        "colab": {
          "base_uri": "https://localhost:8080/",
          "height": 871
        }
      },
      "source": [
        "! python ../src/training/train_model.py -b 2048 -n resnet -find_lr True"
      ],
      "execution_count": 0,
      "outputs": [
        {
          "output_type": "stream",
          "text": [
            "Using TensorFlow backend.\n",
            "True\n",
            "[INFO] Getting dataset...\n",
            "[INFO] Training shape:  (628138, 28, 28) (628138, 62)\n",
            "[INFO] Validation shape:  (69794, 28, 28) (69794, 62)\n",
            "[INFO] Test shape:  (116323, 28, 28) (116323, 62)\n",
            "[INFO] Setting up the model..\n",
            "WARNING: Logging before flag parsing goes to stderr.\n",
            "W0807 16:49:54.460007 139807398139776 deprecation_wrapper.py:119] From /usr/local/lib/python3.6/dist-packages/keras/backend/tensorflow_backend.py:74: The name tf.get_default_graph is deprecated. Please use tf.compat.v1.get_default_graph instead.\n",
            "\n",
            "W0807 16:49:54.469630 139807398139776 deprecation_wrapper.py:119] From /usr/local/lib/python3.6/dist-packages/keras/backend/tensorflow_backend.py:517: The name tf.placeholder is deprecated. Please use tf.compat.v1.placeholder instead.\n",
            "\n",
            "W0807 16:49:54.477100 139807398139776 deprecation_wrapper.py:119] From /usr/local/lib/python3.6/dist-packages/keras/backend/tensorflow_backend.py:4138: The name tf.random_uniform is deprecated. Please use tf.random.uniform instead.\n",
            "\n",
            "W0807 16:49:54.498757 139807398139776 deprecation_wrapper.py:119] From /usr/local/lib/python3.6/dist-packages/keras/backend/tensorflow_backend.py:174: The name tf.get_default_session is deprecated. Please use tf.compat.v1.get_default_session instead.\n",
            "\n",
            "W0807 16:49:54.498932 139807398139776 deprecation_wrapper.py:119] From /usr/local/lib/python3.6/dist-packages/keras/backend/tensorflow_backend.py:181: The name tf.ConfigProto is deprecated. Please use tf.compat.v1.ConfigProto instead.\n",
            "\n",
            "W0807 16:49:55.177702 139807398139776 deprecation_wrapper.py:119] From /usr/local/lib/python3.6/dist-packages/keras/backend/tensorflow_backend.py:1834: The name tf.nn.fused_batch_norm is deprecated. Please use tf.compat.v1.nn.fused_batch_norm instead.\n",
            "\n",
            "W0807 16:49:55.239141 139807398139776 deprecation_wrapper.py:119] From /usr/local/lib/python3.6/dist-packages/keras/backend/tensorflow_backend.py:3976: The name tf.nn.max_pool is deprecated. Please use tf.nn.max_pool2d instead.\n",
            "\n",
            "W0807 16:49:55.989788 139807398139776 deprecation.py:506] From /usr/local/lib/python3.6/dist-packages/keras/backend/tensorflow_backend.py:3445: calling dropout (from tensorflow.python.ops.nn_ops) with keep_prob is deprecated and will be removed in a future version.\n",
            "Instructions for updating:\n",
            "Please use `rate` instead of `keep_prob`. Rate should be set to `rate = 1 - keep_prob`.\n",
            "<src.models.character_model.Character_Model object at 0x7f27395c6fd0>\n",
            "[INFO] finding learning rate...\n",
            "W0807 16:49:56.559100 139807398139776 deprecation_wrapper.py:119] From /usr/local/lib/python3.6/dist-packages/keras/optimizers.py:790: The name tf.train.Optimizer is deprecated. Please use tf.compat.v1.train.Optimizer instead.\n",
            "\n",
            "Number: 307 35\n",
            "W0807 16:49:56.677943 139807398139776 deprecation.py:323] From /usr/local/lib/python3.6/dist-packages/tensorflow/python/ops/math_grad.py:1250: add_dispatch_support.<locals>.wrapper (from tensorflow.python.ops.array_ops) is deprecated and will be removed in a future version.\n",
            "Instructions for updating:\n",
            "Use tf.where in 2.0, which has the same broadcast rule as np.where\n",
            "Epoch 1/7\n",
            " - 218s - loss: 5.3656 - acc: 0.0190 - val_loss: 5.1252 - val_acc: 0.0115\n",
            "Epoch 2/7\n",
            " - 206s - loss: 5.3557 - acc: 0.0190 - val_loss: 5.0870 - val_acc: 0.0114\n",
            "Epoch 3/7\n",
            " - 206s - loss: 5.0887 - acc: 0.0214 - val_loss: 4.2401 - val_acc: 0.0201\n",
            "Epoch 4/7\n",
            " - 206s - loss: 3.1570 - acc: 0.2733 - val_loss: 1.7410 - val_acc: 0.5906\n",
            "Epoch 5/7\n",
            " - 206s - loss: 1.3591 - acc: 0.6328 - val_loss: 7.4639 - val_acc: 0.3262\n",
            "Epoch 6/7\n",
            " - 206s - loss: 2.9707 - acc: 0.3052 - val_loss: 3.7043 - val_acc: 0.0512\n",
            "Epoch 7/7\n",
            "[INFO] learning rate finder complete\n",
            "[INFO] examine plot and adjust learning rates before training\n"
          ],
          "name": "stdout"
        }
      ]
    },
    {
      "cell_type": "code",
      "metadata": {
        "id": "yJZX0yAQBgjx",
        "colab_type": "code",
        "outputId": "9e7ba90b-80b6-4f95-c1fd-9a99c00d51de",
        "colab": {
          "base_uri": "https://localhost:8080/",
          "height": 1000
        }
      },
      "source": [
        "#1e-5 1e-3\n",
        "! python ../src/training/train_model.py -b 2048 -e 50 -n resnet"
      ],
      "execution_count": 24,
      "outputs": [
        {
          "output_type": "stream",
          "text": [
            "Using TensorFlow backend.\n",
            "[INFO] Getting dataset...\n",
            "[INFO] Training shape:  (336299, 28, 28) (336299, 62)\n",
            "[INFO] Validation shape:  (5579, 28, 28) (5579, 62)\n",
            "[INFO] Test shape:  (50210, 28, 28) (50210, 62)\n",
            "[INFO] Setting up the model..\n",
            "WARNING: Logging before flag parsing goes to stderr.\n",
            "W0808 16:19:10.697555 140296097822592 deprecation_wrapper.py:119] From /usr/local/lib/python3.6/dist-packages/keras/backend/tensorflow_backend.py:74: The name tf.get_default_graph is deprecated. Please use tf.compat.v1.get_default_graph instead.\n",
            "\n",
            "W0808 16:19:10.706879 140296097822592 deprecation_wrapper.py:119] From /usr/local/lib/python3.6/dist-packages/keras/backend/tensorflow_backend.py:517: The name tf.placeholder is deprecated. Please use tf.compat.v1.placeholder instead.\n",
            "\n",
            "W0808 16:19:10.713111 140296097822592 deprecation_wrapper.py:119] From /usr/local/lib/python3.6/dist-packages/keras/backend/tensorflow_backend.py:4138: The name tf.random_uniform is deprecated. Please use tf.random.uniform instead.\n",
            "\n",
            "W0808 16:19:10.733382 140296097822592 deprecation_wrapper.py:119] From /usr/local/lib/python3.6/dist-packages/keras/backend/tensorflow_backend.py:174: The name tf.get_default_session is deprecated. Please use tf.compat.v1.get_default_session instead.\n",
            "\n",
            "W0808 16:19:10.733532 140296097822592 deprecation_wrapper.py:119] From /usr/local/lib/python3.6/dist-packages/keras/backend/tensorflow_backend.py:181: The name tf.ConfigProto is deprecated. Please use tf.compat.v1.ConfigProto instead.\n",
            "\n",
            "W0808 16:19:11.377338 140296097822592 deprecation_wrapper.py:119] From /usr/local/lib/python3.6/dist-packages/keras/backend/tensorflow_backend.py:1834: The name tf.nn.fused_batch_norm is deprecated. Please use tf.compat.v1.nn.fused_batch_norm instead.\n",
            "\n",
            "W0808 16:19:11.433597 140296097822592 deprecation_wrapper.py:119] From /usr/local/lib/python3.6/dist-packages/keras/backend/tensorflow_backend.py:3976: The name tf.nn.max_pool is deprecated. Please use tf.nn.max_pool2d instead.\n",
            "\n",
            "W0808 16:19:12.100021 140296097822592 deprecation.py:506] From /usr/local/lib/python3.6/dist-packages/keras/backend/tensorflow_backend.py:3445: calling dropout (from tensorflow.python.ops.nn_ops) with keep_prob is deprecated and will be removed in a future version.\n",
            "Instructions for updating:\n",
            "Please use `rate` instead of `keep_prob`. Rate should be set to `rate = 1 - keep_prob`.\n",
            "<src.models.character_model.Character_Model object at 0x7f99022300f0>\n",
            "COMET INFO: Experiment is live on comet.ml https://www.comet.ml/dudeperf3ct/emnist/8c2c14341ba34fbda5b23ea391d9362c\n",
            "\n",
            "[INFO] Starting Training...\n",
            "__________________________________________________________________________________________________\n",
            "Layer (type)                    Output Shape         Param #     Connected to                     \n",
            "==================================================================================================\n",
            "input_1 (InputLayer)            (None, 28, 28)       0                                            \n",
            "__________________________________________________________________________________________________\n",
            "lambda_1 (Lambda)               (None, 28, 28, 1)    0           input_1[0][0]                    \n",
            "__________________________________________________________________________________________________\n",
            "zero_padding2d_1 (ZeroPadding2D (None, 32, 32, 1)    0           lambda_1[0][0]                   \n",
            "__________________________________________________________________________________________________\n",
            "conv1 (Conv2D)                  (None, 32, 32, 64)   640         zero_padding2d_1[0][0]           \n",
            "__________________________________________________________________________________________________\n",
            "bn_conv1 (BatchNormalization)   (None, 32, 32, 64)   256         conv1[0][0]                      \n",
            "__________________________________________________________________________________________________\n",
            "activation_1 (Activation)       (None, 32, 32, 64)   0           bn_conv1[0][0]                   \n",
            "__________________________________________________________________________________________________\n",
            "max_pooling2d_1 (MaxPooling2D)  (None, 16, 16, 64)   0           activation_1[0][0]               \n",
            "__________________________________________________________________________________________________\n",
            "bn2_2a (BatchNormalization)     (None, 16, 16, 64)   256         max_pooling2d_1[0][0]            \n",
            "__________________________________________________________________________________________________\n",
            "relu2_2a (Activation)           (None, 16, 16, 64)   0           bn2_2a[0][0]                     \n",
            "__________________________________________________________________________________________________\n",
            "conv2_2a (Conv2D)               (None, 16, 16, 64)   4160        relu2_2a[0][0]                   \n",
            "__________________________________________________________________________________________________\n",
            "bn2_2b (BatchNormalization)     (None, 16, 16, 64)   256         conv2_2a[0][0]                   \n",
            "__________________________________________________________________________________________________\n",
            "relu2_2b (Activation)           (None, 16, 16, 64)   0           bn2_2b[0][0]                     \n",
            "__________________________________________________________________________________________________\n",
            "conv2_2b (Conv2D)               (None, 16, 16, 64)   36928       relu2_2b[0][0]                   \n",
            "__________________________________________________________________________________________________\n",
            "conv2_2c (Conv2D)               (None, 16, 16, 128)  8320        conv2_2b[0][0]                   \n",
            "__________________________________________________________________________________________________\n",
            "conv2_2 (Conv2D)                (None, 16, 16, 128)  8320        max_pooling2d_1[0][0]            \n",
            "__________________________________________________________________________________________________\n",
            "bn2_2c (BatchNormalization)     (None, 16, 16, 128)  512         conv2_2c[0][0]                   \n",
            "__________________________________________________________________________________________________\n",
            "bn2_2 (BatchNormalization)      (None, 16, 16, 128)  512         conv2_2[0][0]                    \n",
            "__________________________________________________________________________________________________\n",
            "add_1 (Add)                     (None, 16, 16, 128)  0           bn2_2c[0][0]                     \n",
            "                                                                 bn2_2[0][0]                      \n",
            "__________________________________________________________________________________________________\n",
            "relu2 (Activation)              (None, 16, 16, 128)  0           add_1[0][0]                      \n",
            "__________________________________________________________________________________________________\n",
            "bn3_3a (BatchNormalization)     (None, 16, 16, 128)  512         relu2[0][0]                      \n",
            "__________________________________________________________________________________________________\n",
            "relu3_3a (Activation)           (None, 16, 16, 128)  0           bn3_3a[0][0]                     \n",
            "__________________________________________________________________________________________________\n",
            "conv3_3a (Conv2D)               (None, 8, 8, 256)    33024       relu3_3a[0][0]                   \n",
            "__________________________________________________________________________________________________\n",
            "bn3_3b (BatchNormalization)     (None, 8, 8, 256)    1024        conv3_3a[0][0]                   \n",
            "__________________________________________________________________________________________________\n",
            "relu3_3b (Activation)           (None, 8, 8, 256)    0           bn3_3b[0][0]                     \n",
            "__________________________________________________________________________________________________\n",
            "conv3_3b (Conv2D)               (None, 8, 8, 256)    590080      relu3_3b[0][0]                   \n",
            "__________________________________________________________________________________________________\n",
            "conv3_3c (Conv2D)               (None, 8, 8, 512)    131584      conv3_3b[0][0]                   \n",
            "__________________________________________________________________________________________________\n",
            "conv3_3 (Conv2D)                (None, 8, 8, 512)    66048       relu2[0][0]                      \n",
            "__________________________________________________________________________________________________\n",
            "bn3_3c (BatchNormalization)     (None, 8, 8, 512)    2048        conv3_3c[0][0]                   \n",
            "__________________________________________________________________________________________________\n",
            "bn3_3 (BatchNormalization)      (None, 8, 8, 512)    2048        conv3_3[0][0]                    \n",
            "__________________________________________________________________________________________________\n",
            "add_2 (Add)                     (None, 8, 8, 512)    0           bn3_3c[0][0]                     \n",
            "                                                                 bn3_3[0][0]                      \n",
            "__________________________________________________________________________________________________\n",
            "relu3 (Activation)              (None, 8, 8, 512)    0           add_2[0][0]                      \n",
            "__________________________________________________________________________________________________\n",
            "max_pooling2d_2 (MaxPooling2D)  (None, 4, 4, 512)    0           relu3[0][0]                      \n",
            "__________________________________________________________________________________________________\n",
            "dropout_1 (Dropout)             (None, 4, 4, 512)    0           max_pooling2d_2[0][0]            \n",
            "__________________________________________________________________________________________________\n",
            "global_average_pooling2d_1 (Glo (None, 512)          0           dropout_1[0][0]                  \n",
            "__________________________________________________________________________________________________\n",
            "dense_1 (Dense)                 (None, 128)          65664       global_average_pooling2d_1[0][0] \n",
            "__________________________________________________________________________________________________\n",
            "dropout_2 (Dropout)             (None, 128)          0           dense_1[0][0]                    \n",
            "__________________________________________________________________________________________________\n",
            "dense_2 (Dense)                 (None, 62)           7998        dropout_2[0][0]                  \n",
            "==================================================================================================\n",
            "Total params: 960,190\n",
            "Trainable params: 956,478\n",
            "Non-trainable params: 3,712\n",
            "__________________________________________________________________________________________________\n",
            "W0808 16:19:13.850390 140296097822592 deprecation_wrapper.py:119] From /usr/local/lib/python3.6/dist-packages/keras/optimizers.py:790: The name tf.train.Optimizer is deprecated. Please use tf.compat.v1.train.Optimizer instead.\n",
            "\n",
            "Number: 165 3\n",
            "W0808 16:19:13.964331 140296097822592 deprecation.py:323] From /usr/local/lib/python3.6/dist-packages/tensorflow/python/ops/math_grad.py:1250: add_dispatch_support.<locals>.wrapper (from tensorflow.python.ops.array_ops) is deprecated and will be removed in a future version.\n",
            "Instructions for updating:\n",
            "Use tf.where in 2.0, which has the same broadcast rule as np.where\n",
            "Epoch 1/50\n",
            " - 87s - loss: 4.7599 - acc: 0.0276 - val_loss: 3.9385 - val_acc: 0.0593\n",
            "Epoch 2/50\n",
            " - 75s - loss: 3.6195 - acc: 0.1372 - val_loss: 3.1872 - val_acc: 0.2685\n",
            "Epoch 3/50\n",
            " - 75s - loss: 2.9108 - acc: 0.3035 - val_loss: 2.4059 - val_acc: 0.4592\n",
            "Epoch 4/50\n",
            " - 75s - loss: 2.2465 - acc: 0.4431 - val_loss: 1.7643 - val_acc: 0.5806\n",
            "Epoch 5/50\n",
            " - 75s - loss: 1.7059 - acc: 0.5493 - val_loss: 1.2632 - val_acc: 0.6704\n",
            "Epoch 6/50\n",
            " - 75s - loss: 1.3275 - acc: 0.6239 - val_loss: 0.9879 - val_acc: 0.7186\n",
            "Epoch 7/50\n",
            " - 75s - loss: 1.0835 - acc: 0.6739 - val_loss: 0.8386 - val_acc: 0.7327\n",
            "Epoch 8/50\n",
            " - 75s - loss: 0.9329 - acc: 0.7058 - val_loss: 0.7671 - val_acc: 0.7426\n",
            "Epoch 9/50\n",
            " - 75s - loss: 0.8326 - acc: 0.7277 - val_loss: 0.7165 - val_acc: 0.7559\n",
            "Epoch 10/50\n",
            " - 75s - loss: 0.7688 - acc: 0.7427 - val_loss: 0.6477 - val_acc: 0.7749\n",
            "Epoch 11/50\n",
            " - 75s - loss: 0.7254 - acc: 0.7529 - val_loss: 0.6154 - val_acc: 0.7790\n",
            "Epoch 12/50\n",
            " - 75s - loss: 0.6970 - acc: 0.7594 - val_loss: 0.5907 - val_acc: 0.7872\n",
            "Epoch 13/50\n",
            " - 75s - loss: 0.6761 - acc: 0.7644 - val_loss: 0.5772 - val_acc: 0.7932\n",
            "Epoch 14/50\n",
            " - 75s - loss: 0.6623 - acc: 0.7677 - val_loss: 0.5624 - val_acc: 0.7967\n",
            "Epoch 15/50\n",
            " - 75s - loss: 0.6523 - acc: 0.7698 - val_loss: 0.5529 - val_acc: 0.7989\n",
            "Epoch 16/50\n",
            " - 75s - loss: 0.6447 - acc: 0.7735 - val_loss: 0.5480 - val_acc: 0.8019\n",
            "Epoch 17/50\n",
            " - 75s - loss: 0.6442 - acc: 0.7724 - val_loss: 0.5517 - val_acc: 0.7992\n",
            "Epoch 18/50\n",
            " - 75s - loss: 0.6433 - acc: 0.7732 - val_loss: 0.5508 - val_acc: 0.8009\n",
            "Epoch 19/50\n",
            " - 75s - loss: 0.6363 - acc: 0.7748 - val_loss: 0.5562 - val_acc: 0.7973\n",
            "Restoring model weights from the end of the best epoch\n",
            "Epoch 00019: early stopping\n",
            "[INFO] Training took 1436.765500 s\n",
            "[INFO] Starting Testing...\n",
            "[INFO] Test evaluation: 18.878709414083154\n",
            "COMET INFO: ----------------------------\n",
            "COMET INFO: Comet.ml Experiment Summary:\n",
            "COMET INFO:   Data:\n",
            "COMET INFO:     url: https://www.comet.ml/dudeperf3ct/emnist/8c2c14341ba34fbda5b23ea391d9362c\n",
            "COMET INFO:   Metrics [count] (min, max):\n",
            "COMET INFO:     sys.gpu.0.free_memory               : (15438118912.0, 15438118912.0)\n",
            "COMET INFO:     sys.gpu.0.gpu_utilization           : (0.0, 0.0)\n",
            "COMET INFO:     sys.gpu.0.total_memory              : (15812263936.0, 15812263936.0)\n",
            "COMET INFO:     sys.gpu.0.used_memory               : (374145024.0, 374145024.0)\n",
            "COMET INFO:     test_accuracy                       : (0.18878709414083153, 0.18878709414083153)\n",
            "COMET INFO:     test_loss                           : (3.606313424156947, 3.606313424156947)\n",
            "COMET INFO:     test_sys.gpu.0.free_memory          : (290390016.0, 290390016.0)\n",
            "COMET INFO:     test_sys.gpu.0.gpu_utilization      : (98.0, 98.0)\n",
            "COMET INFO:     test_sys.gpu.0.used_memory          : (15521873920.0, 15521873920.0)\n",
            "COMET INFO:     train_acc [37]                      : (0.027502311932336154, 0.7746439923801245)\n",
            "COMET INFO:     train_batch_acc [645]               : (0.015625, 0.791015625)\n",
            "COMET INFO:     train_batch_loss [645]              : (0.5846773386001587, 5.410645484924316)\n",
            "COMET INFO:     train_epoch_duration [37]           : (74.77418803, 87.3934151010003)\n",
            "COMET INFO:     train_loss [37]                     : (0.636744678065141, 4.763613715324989)\n",
            "COMET INFO:     train_step                          : 3135\n",
            "COMET INFO:     train_sys.gpu.0.free_memory [45]    : (290390016.0, 290390016.0)\n",
            "COMET INFO:     train_sys.gpu.0.gpu_utilization [45]: (95.0, 98.0)\n",
            "COMET INFO:     train_sys.gpu.0.used_memory [45]    : (15521873920.0, 15521873920.0)\n",
            "COMET INFO:     train_val_acc [37]                  : (0.05932962864258102, 0.8019358345226781)\n",
            "COMET INFO:     train_val_loss [37]                 : (0.5480199813052176, 3.938522147756256)\n",
            "COMET INFO:   Other [count]:\n",
            "COMET INFO:     train_trainable_params: 960190\n",
            "COMET INFO: ----------------------------\n",
            "COMET INFO: Uploading stats to Comet before program termination (may take several seconds)\n",
            "COMET INFO: Still uploading\n",
            "[INFO] Weights saved at /content/TextRecognizer/Experiment-1/models/Character_Model_EMNIST_resnet_weights.h5\n"
          ],
          "name": "stdout"
        }
      ]
    },
    {
      "cell_type": "code",
      "metadata": {
        "id": "4LnV3khR_Ojl",
        "colab_type": "code",
        "outputId": "a47b04bd-fcc9-4229-cabe-f6fb931ebd9d",
        "colab": {
          "base_uri": "https://localhost:8080/",
          "height": 836
        }
      },
      "source": [
        "! python ../src/training/train_model.py -b 2048 -n customCNN -find_lr True"
      ],
      "execution_count": 0,
      "outputs": [
        {
          "output_type": "stream",
          "text": [
            "Using TensorFlow backend.\n",
            "True\n",
            "[INFO] Getting dataset...\n",
            "[INFO] Training shape:  (628138, 28, 28) (628138, 62)\n",
            "[INFO] Validation shape:  (69794, 28, 28) (69794, 62)\n",
            "[INFO] Test shape:  (116323, 28, 28) (116323, 62)\n",
            "[INFO] Setting up the model..\n",
            "WARNING: Logging before flag parsing goes to stderr.\n",
            "W0807 18:16:27.461734 140030207059840 deprecation_wrapper.py:119] From /usr/local/lib/python3.6/dist-packages/keras/backend/tensorflow_backend.py:74: The name tf.get_default_graph is deprecated. Please use tf.compat.v1.get_default_graph instead.\n",
            "\n",
            "W0807 18:16:27.471593 140030207059840 deprecation_wrapper.py:119] From /usr/local/lib/python3.6/dist-packages/keras/backend/tensorflow_backend.py:517: The name tf.placeholder is deprecated. Please use tf.compat.v1.placeholder instead.\n",
            "\n",
            "W0807 18:16:27.477030 140030207059840 deprecation_wrapper.py:119] From /usr/local/lib/python3.6/dist-packages/keras/backend/tensorflow_backend.py:4138: The name tf.random_uniform is deprecated. Please use tf.random.uniform instead.\n",
            "\n",
            "W0807 18:16:27.498865 140030207059840 deprecation_wrapper.py:119] From /usr/local/lib/python3.6/dist-packages/keras/backend/tensorflow_backend.py:174: The name tf.get_default_session is deprecated. Please use tf.compat.v1.get_default_session instead.\n",
            "\n",
            "W0807 18:16:27.499017 140030207059840 deprecation_wrapper.py:119] From /usr/local/lib/python3.6/dist-packages/keras/backend/tensorflow_backend.py:181: The name tf.ConfigProto is deprecated. Please use tf.compat.v1.ConfigProto instead.\n",
            "\n",
            "W0807 18:16:28.161134 140030207059840 deprecation_wrapper.py:119] From /usr/local/lib/python3.6/dist-packages/keras/backend/tensorflow_backend.py:1834: The name tf.nn.fused_batch_norm is deprecated. Please use tf.compat.v1.nn.fused_batch_norm instead.\n",
            "\n",
            "W0807 18:16:28.388557 140030207059840 deprecation_wrapper.py:119] From /usr/local/lib/python3.6/dist-packages/keras/backend/tensorflow_backend.py:3976: The name tf.nn.max_pool is deprecated. Please use tf.nn.max_pool2d instead.\n",
            "\n",
            "W0807 18:16:28.668607 140030207059840 deprecation.py:506] From /usr/local/lib/python3.6/dist-packages/keras/backend/tensorflow_backend.py:3445: calling dropout (from tensorflow.python.ops.nn_ops) with keep_prob is deprecated and will be removed in a future version.\n",
            "Instructions for updating:\n",
            "Please use `rate` instead of `keep_prob`. Rate should be set to `rate = 1 - keep_prob`.\n",
            "<src.models.character_model.Character_Model object at 0x7f5b19cecfd0>\n",
            "[INFO] finding learning rate...\n",
            "W0807 18:16:28.953802 140030207059840 deprecation_wrapper.py:119] From /usr/local/lib/python3.6/dist-packages/keras/optimizers.py:790: The name tf.train.Optimizer is deprecated. Please use tf.compat.v1.train.Optimizer instead.\n",
            "\n",
            "Number: 307 35\n",
            "W0807 18:16:29.072999 140030207059840 deprecation.py:323] From /usr/local/lib/python3.6/dist-packages/tensorflow/python/ops/math_grad.py:1250: add_dispatch_support.<locals>.wrapper (from tensorflow.python.ops.array_ops) is deprecated and will be removed in a future version.\n",
            "Instructions for updating:\n",
            "Use tf.where in 2.0, which has the same broadcast rule as np.where\n",
            "Epoch 1/7\n",
            " - 196s - loss: 5.2061 - acc: 0.0178 - val_loss: 5.0035 - val_acc: 0.0182\n",
            "Epoch 2/7\n",
            " - 185s - loss: 5.1805 - acc: 0.0183 - val_loss: 4.9037 - val_acc: 0.0204\n",
            "Epoch 3/7\n",
            " - 183s - loss: 4.3383 - acc: 0.0969 - val_loss: 2.3726 - val_acc: 0.4520\n",
            "Epoch 4/7\n",
            " - 183s - loss: 1.2517 - acc: 0.6675 - val_loss: 0.7491 - val_acc: 0.7863\n",
            "Epoch 5/7\n",
            " - 184s - loss: 0.6783 - acc: 0.7877 - val_loss: 4.1320 - val_acc: 0.6276\n",
            "Epoch 6/7\n",
            "[INFO] learning rate finder complete\n",
            "[INFO] examine plot and adjust learning rates before training\n"
          ],
          "name": "stdout"
        }
      ]
    },
    {
      "cell_type": "code",
      "metadata": {
        "id": "-V1OteKQOdiF",
        "colab_type": "code",
        "outputId": "3bc37ba7-d3d9-4627-927d-25ccda833511",
        "colab": {
          "base_uri": "https://localhost:8080/",
          "height": 1000
        }
      },
      "source": [
        "#1e-4 1e-6\n",
        "! python ../src/training/train_model.py -b 2048 -e 20 -n customCNN"
      ],
      "execution_count": 26,
      "outputs": [
        {
          "output_type": "stream",
          "text": [
            "Using TensorFlow backend.\n",
            "[INFO] Getting dataset...\n",
            "[INFO] Training shape:  (336299, 28, 28) (336299, 62)\n",
            "[INFO] Validation shape:  (5579, 28, 28) (5579, 62)\n",
            "[INFO] Test shape:  (50210, 28, 28) (50210, 62)\n",
            "[INFO] Setting up the model..\n",
            "WARNING: Logging before flag parsing goes to stderr.\n",
            "W0808 16:43:33.000856 139716956460928 deprecation_wrapper.py:119] From /usr/local/lib/python3.6/dist-packages/keras/backend/tensorflow_backend.py:74: The name tf.get_default_graph is deprecated. Please use tf.compat.v1.get_default_graph instead.\n",
            "\n",
            "W0808 16:43:33.011269 139716956460928 deprecation_wrapper.py:119] From /usr/local/lib/python3.6/dist-packages/keras/backend/tensorflow_backend.py:517: The name tf.placeholder is deprecated. Please use tf.compat.v1.placeholder instead.\n",
            "\n",
            "W0808 16:43:33.016017 139716956460928 deprecation_wrapper.py:119] From /usr/local/lib/python3.6/dist-packages/keras/backend/tensorflow_backend.py:4138: The name tf.random_uniform is deprecated. Please use tf.random.uniform instead.\n",
            "\n",
            "W0808 16:43:33.037184 139716956460928 deprecation_wrapper.py:119] From /usr/local/lib/python3.6/dist-packages/keras/backend/tensorflow_backend.py:174: The name tf.get_default_session is deprecated. Please use tf.compat.v1.get_default_session instead.\n",
            "\n",
            "W0808 16:43:33.037340 139716956460928 deprecation_wrapper.py:119] From /usr/local/lib/python3.6/dist-packages/keras/backend/tensorflow_backend.py:181: The name tf.ConfigProto is deprecated. Please use tf.compat.v1.ConfigProto instead.\n",
            "\n",
            "W0808 16:43:33.690512 139716956460928 deprecation_wrapper.py:119] From /usr/local/lib/python3.6/dist-packages/keras/backend/tensorflow_backend.py:1834: The name tf.nn.fused_batch_norm is deprecated. Please use tf.compat.v1.nn.fused_batch_norm instead.\n",
            "\n",
            "W0808 16:43:33.903219 139716956460928 deprecation_wrapper.py:119] From /usr/local/lib/python3.6/dist-packages/keras/backend/tensorflow_backend.py:3976: The name tf.nn.max_pool is deprecated. Please use tf.nn.max_pool2d instead.\n",
            "\n",
            "W0808 16:43:34.168684 139716956460928 deprecation.py:506] From /usr/local/lib/python3.6/dist-packages/keras/backend/tensorflow_backend.py:3445: calling dropout (from tensorflow.python.ops.nn_ops) with keep_prob is deprecated and will be removed in a future version.\n",
            "Instructions for updating:\n",
            "Please use `rate` instead of `keep_prob`. Rate should be set to `rate = 1 - keep_prob`.\n",
            "<src.models.character_model.Character_Model object at 0x7f122a9d5fd0>\n",
            "COMET INFO: Experiment is live on comet.ml https://www.comet.ml/dudeperf3ct/emnist/a0b44469386e44cd887c79864199f2f9\n",
            "\n",
            "[INFO] Starting Training...\n",
            "_________________________________________________________________\n",
            "Layer (type)                 Output Shape              Param #   \n",
            "=================================================================\n",
            "lambda_1 (Lambda)            (None, 28, 28, 1)         0         \n",
            "_________________________________________________________________\n",
            "conv2d_1 (Conv2D)            (None, 26, 26, 32)        320       \n",
            "_________________________________________________________________\n",
            "leaky_re_lu_1 (LeakyReLU)    (None, 26, 26, 32)        0         \n",
            "_________________________________________________________________\n",
            "batch_normalization_1 (Batch (None, 26, 26, 32)        128       \n",
            "_________________________________________________________________\n",
            "conv2d_2 (Conv2D)            (None, 24, 24, 64)        18496     \n",
            "_________________________________________________________________\n",
            "leaky_re_lu_2 (LeakyReLU)    (None, 24, 24, 64)        0         \n",
            "_________________________________________________________________\n",
            "batch_normalization_2 (Batch (None, 24, 24, 64)        256       \n",
            "_________________________________________________________________\n",
            "conv2d_3 (Conv2D)            (None, 22, 22, 64)        36928     \n",
            "_________________________________________________________________\n",
            "leaky_re_lu_3 (LeakyReLU)    (None, 22, 22, 64)        0         \n",
            "_________________________________________________________________\n",
            "batch_normalization_3 (Batch (None, 22, 22, 64)        256       \n",
            "_________________________________________________________________\n",
            "conv2d_4 (Conv2D)            (None, 20, 20, 128)       73856     \n",
            "_________________________________________________________________\n",
            "leaky_re_lu_4 (LeakyReLU)    (None, 20, 20, 128)       0         \n",
            "_________________________________________________________________\n",
            "max_pooling2d_1 (MaxPooling2 (None, 10, 10, 128)       0         \n",
            "_________________________________________________________________\n",
            "flatten_1 (Flatten)          (None, 12800)             0         \n",
            "_________________________________________________________________\n",
            "batch_normalization_4 (Batch (None, 12800)             51200     \n",
            "_________________________________________________________________\n",
            "dense_1 (Dense)              (None, 128)               1638528   \n",
            "_________________________________________________________________\n",
            "leaky_re_lu_5 (LeakyReLU)    (None, 128)               0         \n",
            "_________________________________________________________________\n",
            "batch_normalization_5 (Batch (None, 128)               512       \n",
            "_________________________________________________________________\n",
            "dropout_1 (Dropout)          (None, 128)               0         \n",
            "_________________________________________________________________\n",
            "dense_2 (Dense)              (None, 62)                7998      \n",
            "=================================================================\n",
            "Total params: 1,828,478\n",
            "Trainable params: 1,802,302\n",
            "Non-trainable params: 26,176\n",
            "_________________________________________________________________\n",
            "W0808 16:43:35.886462 139716956460928 deprecation_wrapper.py:119] From /usr/local/lib/python3.6/dist-packages/keras/optimizers.py:790: The name tf.train.Optimizer is deprecated. Please use tf.compat.v1.train.Optimizer instead.\n",
            "\n",
            "Number: 165 3\n",
            "W0808 16:43:35.991399 139716956460928 deprecation.py:323] From /usr/local/lib/python3.6/dist-packages/tensorflow/python/ops/math_grad.py:1250: add_dispatch_support.<locals>.wrapper (from tensorflow.python.ops.array_ops) is deprecated and will be removed in a future version.\n",
            "Instructions for updating:\n",
            "Use tf.where in 2.0, which has the same broadcast rule as np.where\n",
            "Epoch 1/20\n",
            " - 69s - loss: 3.5103 - acc: 0.1975 - val_loss: 1.8984 - val_acc: 0.5082\n",
            "Epoch 2/20\n",
            " - 59s - loss: 1.6203 - acc: 0.5859 - val_loss: 1.1589 - val_acc: 0.6838\n",
            "Epoch 3/20\n",
            " - 59s - loss: 1.1228 - acc: 0.6948 - val_loss: 0.9342 - val_acc: 0.7243\n",
            "Epoch 4/20\n",
            " - 59s - loss: 0.9292 - acc: 0.7321 - val_loss: 0.8374 - val_acc: 0.7439\n",
            "Epoch 5/20\n",
            " - 59s - loss: 0.8151 - acc: 0.7534 - val_loss: 0.7703 - val_acc: 0.7544\n",
            "Epoch 6/20\n",
            " - 59s - loss: 0.7339 - acc: 0.7671 - val_loss: 0.7143 - val_acc: 0.7609\n",
            "Epoch 7/20\n",
            " - 59s - loss: 0.6743 - acc: 0.7779 - val_loss: 0.6760 - val_acc: 0.7654\n",
            "Epoch 8/20\n",
            " - 59s - loss: 0.6268 - acc: 0.7874 - val_loss: 0.6395 - val_acc: 0.7686\n",
            "Epoch 9/20\n",
            " - 59s - loss: 0.5881 - acc: 0.7953 - val_loss: 0.6072 - val_acc: 0.7785\n",
            "Epoch 10/20\n",
            " - 59s - loss: 0.5534 - acc: 0.8033 - val_loss: 0.5829 - val_acc: 0.7867\n",
            "Epoch 11/20\n",
            " - 59s - loss: 0.5274 - acc: 0.8108 - val_loss: 0.5537 - val_acc: 0.7919\n",
            "Epoch 12/20\n",
            " - 61s - loss: 0.5074 - acc: 0.8155 - val_loss: 0.5370 - val_acc: 0.8010\n",
            "Epoch 13/20\n",
            " - 60s - loss: 0.4920 - acc: 0.8205 - val_loss: 0.5277 - val_acc: 0.8016\n",
            "Epoch 14/20\n",
            " - 60s - loss: 0.4793 - acc: 0.8249 - val_loss: 0.5124 - val_acc: 0.8032\n",
            "Epoch 15/20\n",
            " - 60s - loss: 0.4685 - acc: 0.8284 - val_loss: 0.5060 - val_acc: 0.8100\n",
            "Epoch 16/20\n",
            " - 61s - loss: 0.4614 - acc: 0.8309 - val_loss: 0.5019 - val_acc: 0.8116\n",
            "Epoch 17/20\n",
            " - 61s - loss: 0.4585 - acc: 0.8320 - val_loss: 0.5039 - val_acc: 0.8107\n",
            "Epoch 18/20\n",
            " - 60s - loss: 0.4608 - acc: 0.8309 - val_loss: 0.5126 - val_acc: 0.8039\n",
            "Epoch 19/20\n",
            " - 60s - loss: 0.4607 - acc: 0.8305 - val_loss: 0.5167 - val_acc: 0.8023\n",
            "Restoring model weights from the end of the best epoch\n",
            "Epoch 00019: early stopping\n",
            "[INFO] Training took 1143.722059 s\n",
            "[INFO] Starting Testing...\n",
            "[INFO] Test evaluation: 28.229436388862865\n",
            "COMET INFO: ----------------------------\n",
            "COMET INFO: Comet.ml Experiment Summary:\n",
            "COMET INFO:   Data:\n",
            "COMET INFO:     url: https://www.comet.ml/dudeperf3ct/emnist/a0b44469386e44cd887c79864199f2f9\n",
            "COMET INFO:   Metrics [count] (min, max):\n",
            "COMET INFO:     sys.gpu.0.free_memory               : (15438118912.0, 15438118912.0)\n",
            "COMET INFO:     sys.gpu.0.gpu_utilization           : (0.0, 0.0)\n",
            "COMET INFO:     sys.gpu.0.total_memory              : (15812263936.0, 15812263936.0)\n",
            "COMET INFO:     sys.gpu.0.used_memory               : (374145024.0, 374145024.0)\n",
            "COMET INFO:     test_accuracy                       : (0.28229436388862866, 0.28229436388862866)\n",
            "COMET INFO:     test_loss                           : (4.685683189305479, 4.685683189305479)\n",
            "COMET INFO:     train_acc [37]                      : (0.19648883879356466, 0.8316527851896584)\n",
            "COMET INFO:     train_batch_acc [645]               : (0.01171875, 0.85107421875)\n",
            "COMET INFO:     train_batch_loss [645]              : (0.4267503023147583, 5.000339508056641)\n",
            "COMET INFO:     train_epoch_duration [37]           : (58.76956005899956, 69.49894128899996)\n",
            "COMET INFO:     train_loss [37]                     : (0.4592651671247241, 3.516185329087455)\n",
            "COMET INFO:     train_step                          : 3135\n",
            "COMET INFO:     train_sys.gpu.0.free_memory [37]    : (2649686016.0, 2649686016.0)\n",
            "COMET INFO:     train_sys.gpu.0.gpu_utilization [37]: (92.0, 98.0)\n",
            "COMET INFO:     train_sys.gpu.0.used_memory [37]    : (13162577920.0, 13162577920.0)\n",
            "COMET INFO:     train_val_acc [37]                  : (0.5081555864186585, 0.8116149821681433)\n",
            "COMET INFO:     train_val_loss [37]                 : (0.5018569807421672, 1.8983799534302113)\n",
            "COMET INFO:   Other [count]:\n",
            "COMET INFO:     train_trainable_params: 1828478\n",
            "COMET INFO: ----------------------------\n",
            "COMET INFO: Uploading stats to Comet before program termination (may take several seconds)\n",
            "COMET INFO: Still uploading\n",
            "[INFO] Weights saved at /content/TextRecognizer/Experiment-1/models/Character_Model_EMNIST_customCNN_weights.h5\n"
          ],
          "name": "stdout"
        }
      ]
    },
    {
      "cell_type": "markdown",
      "metadata": {
        "id": "8An2rDQwtBT5",
        "colab_type": "text"
      },
      "source": [
        "## Testing"
      ]
    },
    {
      "cell_type": "code",
      "metadata": {
        "id": "oBbUCGSgOBgi",
        "colab_type": "code",
        "colab": {
          "base_uri": "https://localhost:8080/",
          "height": 34
        },
        "outputId": "2a4dc525-85f7-42ed-c1f5-bb939b6a247d"
      },
      "source": [
        "from keras.models import load_model\n",
        "from src.networks.lenet import lenet\n",
        "from src.networks.resnet import resnet\n",
        "from src.networks.custom import customCNN\n",
        "from sklearn.metrics import classification_report"
      ],
      "execution_count": 27,
      "outputs": [
        {
          "output_type": "stream",
          "text": [
            "Using TensorFlow backend.\n"
          ],
          "name": "stderr"
        }
      ]
    },
    {
      "cell_type": "code",
      "metadata": {
        "id": "W1X9JhohTB-9",
        "colab_type": "code",
        "colab": {}
      },
      "source": [
        "classes = [value for value in dataset.mapping.values()]\n",
        "batch_size = 2048"
      ],
      "execution_count": 0,
      "outputs": []
    },
    {
      "cell_type": "code",
      "metadata": {
        "id": "VkP4FO1xYiBX",
        "colab_type": "code",
        "colab": {}
      },
      "source": [
        "def test_generator(batch_size):\n",
        "    num_iters = int(np.ceil(x_test.shape[0] / batch_size))\n",
        "    while 1:\n",
        "        for i in range(num_iters):\n",
        "            tmp = x_test[i*batch_size:(i+1)*batch_size].astype('float32')\n",
        "            tmp /= 255.0\n",
        "            yield tmp, y_test[i*batch_size:(i+1)*batch_size]"
      ],
      "execution_count": 0,
      "outputs": []
    },
    {
      "cell_type": "code",
      "metadata": {
        "id": "bYZ1UVRKTYbU",
        "colab_type": "code",
        "colab": {}
      },
      "source": [
        "def evaluate_model(weights_dir, network):\n",
        "    model = network(dataset.input_shape, dataset.output_shape) \n",
        "    model.load_weights(weights_dir)\n",
        "    num_iters = int(np.ceil(x_test.shape[0] / batch_size))\n",
        "    t_generator = test_generator(batch_size=batch_size)\n",
        "\n",
        "    # evaluate the network and show a classification report\n",
        "    print(\"[INFO] evaluating network...\")\n",
        "    predictions = model.predict_generator(t_generator, steps=num_iters)\n",
        "    print(classification_report(y_test.argmax(axis=1),\n",
        "                                predictions.argmax(axis=1), \n",
        "                                target_names=classes))\n",
        "    return model"
      ],
      "execution_count": 0,
      "outputs": []
    },
    {
      "cell_type": "code",
      "metadata": {
        "id": "R9deUWa1N86S",
        "colab_type": "code",
        "colab": {}
      },
      "source": [
        "weights_lenet_dir = '../models/Character_Model_EMNIST_lenet_weights.h5'\n",
        "weights_resnet_dir = '../models/Character_Model_EMNIST_resnet_weights.h5'\n",
        "weights_custom_dir = '../models/Character_Model_EMNIST_customCNN_weights.h5'"
      ],
      "execution_count": 0,
      "outputs": []
    },
    {
      "cell_type": "code",
      "metadata": {
        "id": "efCInyzLS1FN",
        "colab_type": "code",
        "outputId": "d3706ecf-2c59-4e04-ec4a-002eb676b502",
        "colab": {
          "base_uri": "https://localhost:8080/",
          "height": 1000
        }
      },
      "source": [
        "model_lenet = evaluate_model(weights_lenet_dir, lenet)"
      ],
      "execution_count": 32,
      "outputs": [
        {
          "output_type": "stream",
          "text": [
            "WARNING:tensorflow:From /usr/local/lib/python3.6/dist-packages/keras/backend/tensorflow_backend.py:74: The name tf.get_default_graph is deprecated. Please use tf.compat.v1.get_default_graph instead.\n",
            "\n",
            "WARNING:tensorflow:From /usr/local/lib/python3.6/dist-packages/keras/backend/tensorflow_backend.py:517: The name tf.placeholder is deprecated. Please use tf.compat.v1.placeholder instead.\n",
            "\n",
            "WARNING:tensorflow:From /usr/local/lib/python3.6/dist-packages/keras/backend/tensorflow_backend.py:4138: The name tf.random_uniform is deprecated. Please use tf.random.uniform instead.\n",
            "\n",
            "WARNING:tensorflow:From /usr/local/lib/python3.6/dist-packages/keras/backend/tensorflow_backend.py:3976: The name tf.nn.max_pool is deprecated. Please use tf.nn.max_pool2d instead.\n",
            "\n",
            "WARNING:tensorflow:From /usr/local/lib/python3.6/dist-packages/keras/backend/tensorflow_backend.py:133: The name tf.placeholder_with_default is deprecated. Please use tf.compat.v1.placeholder_with_default instead.\n",
            "\n",
            "WARNING:tensorflow:From /usr/local/lib/python3.6/dist-packages/keras/backend/tensorflow_backend.py:3445: calling dropout (from tensorflow.python.ops.nn_ops) with keep_prob is deprecated and will be removed in a future version.\n",
            "Instructions for updating:\n",
            "Please use `rate` instead of `keep_prob`. Rate should be set to `rate = 1 - keep_prob`.\n",
            "WARNING:tensorflow:From /usr/local/lib/python3.6/dist-packages/keras/backend/tensorflow_backend.py:174: The name tf.get_default_session is deprecated. Please use tf.compat.v1.get_default_session instead.\n",
            "\n",
            "[INFO] evaluating network...\n",
            "              precision    recall  f1-score   support\n",
            "\n",
            "           0       0.42      0.54      0.48      1602\n",
            "           1       0.46      0.07      0.12      1604\n",
            "           2       0.94      0.74      0.83      1572\n",
            "           3       0.99      0.57      0.73      1597\n",
            "           4       0.79      0.83      0.81      1612\n",
            "           5       0.90      0.77      0.83      1562\n",
            "           6       0.80      0.91      0.85      1601\n",
            "           7       0.99      0.62      0.76      1602\n",
            "           8       0.23      0.97      0.38      1610\n",
            "           9       0.82      0.54      0.65      1623\n",
            "           A       0.69      0.82      0.75       882\n",
            "           B       0.32      0.97      0.49       618\n",
            "           C       0.71      0.15      0.25      1144\n",
            "           D       0.86      0.68      0.76       712\n",
            "           E       0.71      0.85      0.77       749\n",
            "           F       0.77      0.65      0.71      1036\n",
            "           G       0.63      0.81      0.71       438\n",
            "           H       0.90      0.70      0.78       503\n",
            "           I       0.88      0.03      0.06      1218\n",
            "           J       0.97      0.51      0.67       597\n",
            "           K       0.72      0.30      0.42       380\n",
            "           L       1.00      0.16      0.27       737\n",
            "           M       0.57      0.97      0.72      1052\n",
            "           N       0.81      0.54      0.65      1015\n",
            "           O       0.67      0.24      0.35      1475\n",
            "           P       0.74      0.86      0.79      1013\n",
            "           Q       0.19      0.96      0.32       411\n",
            "           R       0.59      0.93      0.73       724\n",
            "           S       0.73      0.75      0.74      1440\n",
            "           T       0.98      0.75      0.85      1103\n",
            "           U       0.61      0.50      0.55      1233\n",
            "           V       0.62      0.28      0.39       731\n",
            "           W       0.41      0.91      0.56       738\n",
            "           X       0.62      0.51      0.56       428\n",
            "           Y       0.45      0.44      0.44       716\n",
            "           Z       0.63      0.69      0.66       455\n",
            "           a       0.65      0.75      0.69      1109\n",
            "           b       0.62      0.76      0.68       758\n",
            "           c       0.00      0.00      0.00       427\n",
            "           d       0.60      0.94      0.73      1132\n",
            "           e       0.62      0.92      0.74      1515\n",
            "           f       0.24      0.27      0.25       398\n",
            "           g       0.20      0.62      0.31       560\n",
            "           h       0.96      0.59      0.73      1066\n",
            "           i       0.56      0.29      0.38       422\n",
            "           j       0.92      0.22      0.35       316\n",
            "           k       0.29      0.61      0.39       452\n",
            "           l       0.00      0.00      0.00      1340\n",
            "           m       0.61      0.05      0.10       455\n",
            "           n       0.95      0.57      0.71      1211\n",
            "           o       0.00      0.00      0.00       455\n",
            "           p       0.45      0.27      0.34       365\n",
            "           q       0.18      0.62      0.28       499\n",
            "           r       0.95      0.67      0.79      1306\n",
            "           s       0.25      0.01      0.01       432\n",
            "           t       0.81      0.31      0.44      1381\n",
            "           u       0.48      0.04      0.08       468\n",
            "           v       0.60      0.12      0.20       456\n",
            "           w       0.70      0.34      0.46       456\n",
            "           x       0.35      0.62      0.44       454\n",
            "           y       0.31      0.30      0.30       377\n",
            "           z       0.60      0.58      0.59       446\n",
            "\n",
            "    accuracy                           0.57     55789\n",
            "   macro avg       0.61      0.53      0.51     55789\n",
            "weighted avg       0.66      0.57      0.56     55789\n",
            "\n"
          ],
          "name": "stdout"
        },
        {
          "output_type": "stream",
          "text": [
            "/usr/local/lib/python3.6/dist-packages/sklearn/metrics/classification.py:1437: UndefinedMetricWarning: Precision and F-score are ill-defined and being set to 0.0 in labels with no predicted samples.\n",
            "  'precision', 'predicted', average, warn_for)\n"
          ],
          "name": "stderr"
        }
      ]
    },
    {
      "cell_type": "code",
      "metadata": {
        "id": "PnTN9-X6T3hp",
        "colab_type": "code",
        "outputId": "e42a0c2a-8421-4ff0-9f06-1a4c6b5765a8",
        "colab": {
          "base_uri": "https://localhost:8080/",
          "height": 1000
        }
      },
      "source": [
        "model_resnet = evaluate_model(weights_resnet_dir, resnet)"
      ],
      "execution_count": 33,
      "outputs": [
        {
          "output_type": "stream",
          "text": [
            "WARNING:tensorflow:From /usr/local/lib/python3.6/dist-packages/keras/backend/tensorflow_backend.py:1834: The name tf.nn.fused_batch_norm is deprecated. Please use tf.compat.v1.nn.fused_batch_norm instead.\n",
            "\n",
            "[INFO] evaluating network...\n",
            "              precision    recall  f1-score   support\n",
            "\n",
            "           0       0.20      0.32      0.24      1602\n",
            "           1       0.00      0.00      0.00      1604\n",
            "           2       0.82      0.03      0.05      1572\n",
            "           3       0.95      0.17      0.29      1597\n",
            "           4       0.63      0.08      0.14      1612\n",
            "           5       0.44      0.32      0.37      1562\n",
            "           6       0.64      0.41      0.50      1601\n",
            "           7       0.88      0.03      0.06      1602\n",
            "           8       0.39      0.80      0.53      1610\n",
            "           9       0.00      0.00      0.00      1623\n",
            "           A       0.65      0.12      0.20       882\n",
            "           B       0.08      0.91      0.15       618\n",
            "           C       0.36      0.02      0.03      1144\n",
            "           D       0.26      0.41      0.32       712\n",
            "           E       0.22      0.86      0.35       749\n",
            "           F       0.22      0.00      0.01      1036\n",
            "           G       0.10      0.03      0.05       438\n",
            "           H       0.60      0.01      0.02       503\n",
            "           I       0.00      0.00      0.00      1218\n",
            "           J       0.24      0.10      0.14       597\n",
            "           K       0.57      0.09      0.15       380\n",
            "           L       0.00      0.00      0.00       737\n",
            "           M       0.56      0.41      0.47      1052\n",
            "           N       0.21      0.01      0.01      1015\n",
            "           O       0.43      0.10      0.17      1475\n",
            "           P       0.15      0.04      0.06      1013\n",
            "           Q       0.04      0.84      0.08       411\n",
            "           R       0.25      0.42      0.31       724\n",
            "           S       0.62      0.24      0.34      1440\n",
            "           T       0.82      0.02      0.04      1103\n",
            "           U       0.09      0.09      0.09      1233\n",
            "           V       0.00      0.00      0.00       731\n",
            "           W       0.09      0.89      0.17       738\n",
            "           X       0.33      0.00      0.01       428\n",
            "           Y       0.00      0.00      0.00       716\n",
            "           Z       0.18      0.75      0.29       455\n",
            "           a       0.23      0.42      0.29      1109\n",
            "           b       0.20      0.00      0.00       758\n",
            "           c       0.00      0.00      0.00       427\n",
            "           d       0.00      0.00      0.00      1132\n",
            "           e       0.22      0.88      0.35      1515\n",
            "           f       0.75      0.01      0.01       398\n",
            "           g       0.09      0.50      0.16       560\n",
            "           h       0.00      0.00      0.00      1066\n",
            "           i       0.00      0.00      0.00       422\n",
            "           j       0.00      0.00      0.00       316\n",
            "           k       0.21      0.06      0.09       452\n",
            "           l       0.00      0.00      0.00      1340\n",
            "           m       0.20      0.38      0.27       455\n",
            "           n       0.79      0.01      0.02      1211\n",
            "           o       0.00      0.00      0.00       455\n",
            "           p       0.11      0.16      0.13       365\n",
            "           q       0.14      0.12      0.13       499\n",
            "           r       1.00      0.03      0.07      1306\n",
            "           s       0.24      0.04      0.07       432\n",
            "           t       0.80      0.00      0.01      1381\n",
            "           u       0.08      0.01      0.02       468\n",
            "           v       0.00      0.00      0.00       456\n",
            "           w       0.32      0.03      0.06       456\n",
            "           x       0.00      0.00      0.00       454\n",
            "           y       0.00      0.00      0.00       377\n",
            "           z       0.19      0.21      0.20       446\n",
            "\n",
            "    accuracy                           0.19     55789\n",
            "   macro avg       0.28      0.18      0.12     55789\n",
            "weighted avg       0.35      0.19      0.14     55789\n",
            "\n"
          ],
          "name": "stdout"
        },
        {
          "output_type": "stream",
          "text": [
            "/usr/local/lib/python3.6/dist-packages/sklearn/metrics/classification.py:1437: UndefinedMetricWarning: Precision and F-score are ill-defined and being set to 0.0 in labels with no predicted samples.\n",
            "  'precision', 'predicted', average, warn_for)\n"
          ],
          "name": "stderr"
        }
      ]
    },
    {
      "cell_type": "code",
      "metadata": {
        "id": "4Vq2Ifc9T3pM",
        "colab_type": "code",
        "outputId": "6091af0b-5c89-416c-ca33-66c66f296504",
        "colab": {
          "base_uri": "https://localhost:8080/",
          "height": 1000
        }
      },
      "source": [
        "model_custom = evaluate_model(weights_custom_dir, customCNN)"
      ],
      "execution_count": 34,
      "outputs": [
        {
          "output_type": "stream",
          "text": [
            "[INFO] evaluating network...\n",
            "              precision    recall  f1-score   support\n",
            "\n",
            "           0       0.44      0.48      0.46      1602\n",
            "           1       0.00      0.00      0.00      1604\n",
            "           2       0.82      0.09      0.17      1572\n",
            "           3       1.00      0.15      0.26      1597\n",
            "           4       0.84      0.60      0.70      1612\n",
            "           5       0.74      0.36      0.48      1562\n",
            "           6       0.99      0.38      0.55      1601\n",
            "           7       0.99      0.05      0.10      1602\n",
            "           8       0.09      0.94      0.16      1610\n",
            "           9       0.50      0.00      0.00      1623\n",
            "           A       0.69      0.77      0.73       882\n",
            "           B       0.14      0.92      0.25       618\n",
            "           C       0.70      0.05      0.10      1144\n",
            "           D       0.35      0.75      0.48       712\n",
            "           E       0.43      0.85      0.57       749\n",
            "           F       0.27      0.29      0.28      1036\n",
            "           G       0.88      0.52      0.66       438\n",
            "           H       0.81      0.66      0.73       503\n",
            "           I       1.00      0.00      0.00      1218\n",
            "           J       1.00      0.00      0.00       597\n",
            "           K       0.66      0.32      0.43       380\n",
            "           L       0.00      0.00      0.00       737\n",
            "           M       0.59      0.35      0.44      1052\n",
            "           N       0.90      0.33      0.49      1015\n",
            "           O       0.38      0.18      0.24      1475\n",
            "           P       0.45      0.06      0.10      1013\n",
            "           Q       0.17      0.86      0.29       411\n",
            "           R       0.29      0.87      0.43       724\n",
            "           S       0.72      0.35      0.47      1440\n",
            "           T       0.74      0.02      0.04      1103\n",
            "           U       0.74      0.09      0.16      1233\n",
            "           V       1.00      0.00      0.00       731\n",
            "           W       0.74      0.33      0.46       738\n",
            "           X       0.53      0.54      0.54       428\n",
            "           Y       0.50      0.02      0.04       716\n",
            "           Z       0.57      0.33      0.41       455\n",
            "           a       0.29      0.75      0.42      1109\n",
            "           b       0.63      0.03      0.06       758\n",
            "           c       0.00      0.00      0.00       427\n",
            "           d       0.94      0.24      0.39      1132\n",
            "           e       0.90      0.76      0.82      1515\n",
            "           f       0.43      0.08      0.14       398\n",
            "           g       0.08      0.69      0.14       560\n",
            "           h       1.00      0.01      0.02      1066\n",
            "           i       0.00      0.00      0.00       422\n",
            "           j       0.00      0.00      0.00       316\n",
            "           k       0.61      0.28      0.38       452\n",
            "           l       0.00      0.00      0.00      1340\n",
            "           m       0.31      0.35      0.33       455\n",
            "           n       0.96      0.27      0.42      1211\n",
            "           o       0.50      0.00      0.00       455\n",
            "           p       0.00      0.00      0.00       365\n",
            "           q       0.07      0.48      0.12       499\n",
            "           r       1.00      0.00      0.01      1306\n",
            "           s       0.50      0.01      0.02       432\n",
            "           t       0.89      0.05      0.09      1381\n",
            "           u       0.51      0.04      0.08       468\n",
            "           v       0.17      0.04      0.06       456\n",
            "           w       0.67      0.16      0.26       456\n",
            "           x       0.42      0.42      0.42       454\n",
            "           y       0.36      0.01      0.02       377\n",
            "           z       0.58      0.35      0.43       446\n",
            "\n",
            "    accuracy                           0.28     55789\n",
            "   macro avg       0.54      0.28      0.26     55789\n",
            "weighted avg       0.60      0.28      0.27     55789\n",
            "\n"
          ],
          "name": "stdout"
        },
        {
          "output_type": "stream",
          "text": [
            "/usr/local/lib/python3.6/dist-packages/sklearn/metrics/classification.py:1437: UndefinedMetricWarning: Precision and F-score are ill-defined and being set to 0.0 in labels with no predicted samples.\n",
            "  'precision', 'predicted', average, warn_for)\n"
          ],
          "name": "stderr"
        }
      ]
    },
    {
      "cell_type": "code",
      "metadata": {
        "id": "L2v7DlsltCC0",
        "colab_type": "code",
        "outputId": "72b7544e-352a-4529-ed3e-e6c58172a267",
        "colab": {
          "base_uri": "https://localhost:8080/",
          "height": 262
        }
      },
      "source": [
        "# obtain one batch of test images\n",
        "rnd_index = np.random.randint(low=0, high=len(x_test), size=32)\n",
        "images, labels = x_test[rnd_index], y_test[rnd_index]\n",
        "\n",
        "# get sample outputs\n",
        "predict = model_lenet.predict_on_batch(images)\n",
        "# convert output probabilities to predicted class\n",
        "preds = np.argmax(predict, axis=1)\n",
        "labels = np.argmax(labels, axis=1)\n",
        "\n",
        "# plot the images in the batch, along with predicted and true labels\n",
        "fig = plt.figure(figsize=(25, 4))\n",
        "for idx in np.arange(32):\n",
        "    ax = fig.add_subplot(2, 32/2, idx+1, xticks=[], yticks=[])\n",
        "    ax.imshow(images[idx].reshape((28, 28)), cmap='gray')\n",
        "    ax.set_title(\"{} ({})\".format(str(classes[preds[idx]]), str(classes[labels[idx]])),\n",
        "                 color=(\"green\" if preds[idx]==labels[idx] else \"red\"))"
      ],
      "execution_count": 48,
      "outputs": [
        {
          "output_type": "display_data",
          "data": {
            "image/png": "[encoded data removed]",
            "text/plain": [
              "<Figure size 1800x288 with 32 Axes>"
            ]
          },
          "metadata": {
            "tags": []
          }
        }
      ]
    },
    {
      "cell_type": "markdown",
      "metadata": {
        "id": "rz34bANV1dDk",
        "colab_type": "text"
      },
      "source": [
        "# Transfer Learning"
      ]
    },
    {
      "cell_type": "code",
      "metadata": {
        "id": "z71_o14dNrms",
        "colab_type": "code",
        "colab": {}
      },
      "source": [
        "pip install git+https://www.github.com/keras-team/keras-contrib.git"
      ],
      "execution_count": 0,
      "outputs": []
    },
    {
      "cell_type": "code",
      "metadata": {
        "id": "mNZfFFQr1cXW",
        "colab_type": "code",
        "outputId": "25ced0d4-a824-4a96-f15d-706a969117e6",
        "colab": {
          "base_uri": "https://localhost:8080/",
          "height": 34
        }
      },
      "source": [
        "import keras\n",
        "from keras.applications.resnet50 import ResNet50\n",
        "from keras_contrib.applications.resnet import ResNet18\n",
        "#from keras.applications.resnet_v2 import ResNet50V2\n",
        "#from keras.applications.resnext import ResNeXt50\n",
        "from keras.layers import Dense, GlobalAveragePooling2D, Input\n",
        "from keras.models import Model, load_model\n",
        "from keras.callbacks import EarlyStopping\n",
        "from sklearn.model_selection import train_test_split\n",
        "import matplotlib.pyplot as plt\n",
        "import numpy as np"
      ],
      "execution_count": 0,
      "outputs": [
        {
          "output_type": "stream",
          "text": [
            "Using TensorFlow backend.\n"
          ],
          "name": "stderr"
        }
      ]
    },
    {
      "cell_type": "code",
      "metadata": {
        "id": "1btEOp1k4dMl",
        "colab_type": "code",
        "colab": {}
      },
      "source": [
        "batch_size = 4096\n",
        "epochs = 10\n",
        "es = EarlyStopping(monitor='val_loss', patience=3, verbose=1)\n",
        "callbacks = [es]\n",
        "num_classes = 62\n",
        "input_shape = (28, 28, 3)"
      ],
      "execution_count": 0,
      "outputs": []
    },
    {
      "cell_type": "code",
      "metadata": {
        "id": "bbSsBcVDB3GV",
        "colab_type": "code",
        "colab": {}
      },
      "source": [
        "x_train = np.stack([x_train] * 3, axis=-1)\n",
        "x_test = np.stack([x_test] * 3, axis=-1)"
      ],
      "execution_count": 0,
      "outputs": []
    },
    {
      "cell_type": "code",
      "metadata": {
        "id": "uOWzu_uw3F_c",
        "colab_type": "code",
        "outputId": "cbe0221f-e24d-49a9-ef76-9f7fe91d5fcb",
        "colab": {
          "base_uri": "https://localhost:8080/",
          "height": 69
        }
      },
      "source": [
        "#  split train dataset into train 98% and valid 2%\n",
        "(x_train, x_valid, y_train, y_valid) = train_test_split(x_train, y_train, test_size=0.02,\n",
        "                                                random_state=42)\n",
        "\n",
        "print ('[INFO] Training shape: ', x_train.shape, y_train.shape)\n",
        "print ('[INFO] Validation shape: ', x_valid.shape, y_valid.shape)\n",
        "print ('[INFO] Test shape: ', x_test.shape, y_test.shape)"
      ],
      "execution_count": 0,
      "outputs": [
        {
          "output_type": "stream",
          "text": [
            "[INFO] Training shape:  (683973, 28, 28, 3) (683973, 62)\n",
            "[INFO] Validation shape:  (13959, 28, 28, 3) (13959, 62)\n",
            "[INFO] Test shape:  (116323, 28, 28, 3) (116323, 62)\n"
          ],
          "name": "stdout"
        }
      ]
    },
    {
      "cell_type": "code",
      "metadata": {
        "id": "huOctDRw3bc6",
        "colab_type": "code",
        "colab": {}
      },
      "source": [
        "dataset = dict({\n",
        "    'x_train' : x_train,\n",
        "    'y_train' : y_train,\n",
        "    'x_valid' : x_valid,\n",
        "    'y_valid' : y_valid,\n",
        "    'x_test' : x_test,\n",
        "    'y_test' : y_test\n",
        "})"
      ],
      "execution_count": 0,
      "outputs": []
    },
    {
      "cell_type": "code",
      "metadata": {
        "id": "vLOs9kHl1cSL",
        "colab_type": "code",
        "colab": {}
      },
      "source": [
        "def train_generator(dataset, shuff_index, batch_size):\n",
        "    num_iters = int(np.ceil(dataset['x_train'].shape[0] / batch_size))\n",
        "    while 1:\n",
        "        for i in range(num_iters):\n",
        "            idx = shuff_index[i*batch_size:(i+1)*batch_size]\n",
        "            tmp = dataset['x_train'][idx].astype('float32')\n",
        "            tmp -= np.mean(dataset['x_train'], axis=0, keepdims=True)\n",
        "            tmp /= 255.0\n",
        "            yield tmp, dataset['y_train'][idx]"
      ],
      "execution_count": 0,
      "outputs": []
    },
    {
      "cell_type": "code",
      "metadata": {
        "id": "woDy3U5U2dwn",
        "colab_type": "code",
        "colab": {}
      },
      "source": [
        "def valid_generator(dataset, batch_size):\n",
        "    num_iters = int(np.ceil(dataset['x_valid'].shape[0] / batch_size))\n",
        "    while 1:\n",
        "        for i in range(num_iters):\n",
        "            tmp = dataset['x_valid'][i*batch_size:(i+1)*batch_size].astype('float32')\n",
        "            tmp -= np.mean(dataset['x_train'], axis=0, keepdims=True)\n",
        "            tmp /= 255.0\n",
        "            yield tmp, dataset['y_valid'][i*batch_size:(i+1)*batch_size]"
      ],
      "execution_count": 0,
      "outputs": []
    },
    {
      "cell_type": "code",
      "metadata": {
        "id": "8BdpVarF2lu6",
        "colab_type": "code",
        "outputId": "5bd69882-dc5d-4d8f-9f84-ba57e3f3b4b9",
        "colab": {
          "base_uri": "https://localhost:8080/",
          "height": 34
        }
      },
      "source": [
        "#get the batches from generator\n",
        "shuff_index = np.random.permutation(dataset['x_train'].shape[0])\n",
        "trn_generator = train_generator(dataset, shuff_index, batch_size=batch_size)\n",
        "val_generator = valid_generator(dataset, batch_size=batch_size)\n",
        "\n",
        "iters_train = int(np.ceil(dataset['x_train'].shape[0] / float(batch_size)))\n",
        "iters_test = int(np.ceil(dataset['x_valid'].shape[0] / float(batch_size)))\n",
        "\n",
        "print ('Number:', iters_train, iters_test)"
      ],
      "execution_count": 0,
      "outputs": [
        {
          "output_type": "stream",
          "text": [
            "Number: 167 4\n"
          ],
          "name": "stdout"
        }
      ]
    },
    {
      "cell_type": "markdown",
      "metadata": {
        "id": "iUOkIvxwPzxU",
        "colab_type": "text"
      },
      "source": [
        "### Resnet50 Imagenet Pretrained Model"
      ]
    },
    {
      "cell_type": "code",
      "metadata": {
        "id": "KKtBzzjw1cMd",
        "colab_type": "code",
        "outputId": "bea47415-ca9d-4260-af62-aa1962daea39",
        "colab": {
          "base_uri": "https://localhost:8080/",
          "height": 1000
        }
      },
      "source": [
        "input_tensor = Input(shape=input_shape)\n",
        "base_model = ResNet50(weights='imagenet', include_top=False, \n",
        "                      input_tensor=input_tensor)\n",
        "#base_model = ResNet50V2(weights='imagenet', include_top=False)\n",
        "#base_model = ResNeXt50(weights='imagenet', include_top=False)\n",
        "\n",
        "x = base_model.output\n",
        "x = GlobalAveragePooling2D()(x)\n",
        "# let's add a fully-connected layer\n",
        "x = Dense(1024, activation='relu')(x)\n",
        "# and a logistic layer with 62 classes\n",
        "predictions = Dense(num_classes, activation='softmax')(x)\n",
        "\n",
        "model = Model(inputs=base_model.input, outputs=predictions)\n",
        "model.summary()"
      ],
      "execution_count": 0,
      "outputs": [
        {
          "output_type": "stream",
          "text": [
            "WARNING: Logging before flag parsing goes to stderr.\n",
            "W0804 19:41:49.794712 140124642039680 deprecation_wrapper.py:119] From /usr/local/lib/python3.6/dist-packages/keras/backend/tensorflow_backend.py:74: The name tf.get_default_graph is deprecated. Please use tf.compat.v1.get_default_graph instead.\n",
            "\n",
            "W0804 19:41:49.798008 140124642039680 deprecation_wrapper.py:119] From /usr/local/lib/python3.6/dist-packages/keras/backend/tensorflow_backend.py:517: The name tf.placeholder is deprecated. Please use tf.compat.v1.placeholder instead.\n",
            "\n",
            "W0804 19:41:49.807011 140124642039680 deprecation_wrapper.py:119] From /usr/local/lib/python3.6/dist-packages/keras/backend/tensorflow_backend.py:4185: The name tf.truncated_normal is deprecated. Please use tf.random.truncated_normal instead.\n",
            "\n",
            "W0804 19:41:49.832144 140124642039680 deprecation_wrapper.py:119] From /usr/local/lib/python3.6/dist-packages/keras/backend/tensorflow_backend.py:174: The name tf.get_default_session is deprecated. Please use tf.compat.v1.get_default_session instead.\n",
            "\n",
            "W0804 19:41:49.832957 140124642039680 deprecation_wrapper.py:119] From /usr/local/lib/python3.6/dist-packages/keras/backend/tensorflow_backend.py:181: The name tf.ConfigProto is deprecated. Please use tf.compat.v1.ConfigProto instead.\n",
            "\n",
            "W0804 19:41:50.350988 140124642039680 deprecation_wrapper.py:119] From /usr/local/lib/python3.6/dist-packages/keras/backend/tensorflow_backend.py:1834: The name tf.nn.fused_batch_norm is deprecated. Please use tf.compat.v1.nn.fused_batch_norm instead.\n",
            "\n",
            "W0804 19:41:50.426169 140124642039680 deprecation_wrapper.py:119] From /usr/local/lib/python3.6/dist-packages/keras/backend/tensorflow_backend.py:3976: The name tf.nn.max_pool is deprecated. Please use tf.nn.max_pool2d instead.\n",
            "\n",
            "/usr/local/lib/python3.6/dist-packages/keras_applications/resnet50.py:265: UserWarning: The output shape of `ResNet50(include_top=False)` has been changed since Keras 2.2.0.\n",
            "  warnings.warn('The output shape of `ResNet50(include_top=False)` '\n"
          ],
          "name": "stderr"
        },
        {
          "output_type": "stream",
          "text": [
            "__________________________________________________________________________________________________\n",
            "Layer (type)                    Output Shape         Param #     Connected to                     \n",
            "==================================================================================================\n",
            "input_1 (InputLayer)            (None, 28, 28, 3)    0                                            \n",
            "__________________________________________________________________________________________________\n",
            "conv1_pad (ZeroPadding2D)       (None, 34, 34, 3)    0           input_1[0][0]                    \n",
            "__________________________________________________________________________________________________\n",
            "conv1 (Conv2D)                  (None, 14, 14, 64)   9472        conv1_pad[0][0]                  \n",
            "__________________________________________________________________________________________________\n",
            "bn_conv1 (BatchNormalization)   (None, 14, 14, 64)   256         conv1[0][0]                      \n",
            "__________________________________________________________________________________________________\n",
            "activation_1 (Activation)       (None, 14, 14, 64)   0           bn_conv1[0][0]                   \n",
            "__________________________________________________________________________________________________\n",
            "pool1_pad (ZeroPadding2D)       (None, 16, 16, 64)   0           activation_1[0][0]               \n",
            "__________________________________________________________________________________________________\n",
            "max_pooling2d_1 (MaxPooling2D)  (None, 7, 7, 64)     0           pool1_pad[0][0]                  \n",
            "__________________________________________________________________________________________________\n",
            "res2a_branch2a (Conv2D)         (None, 7, 7, 64)     4160        max_pooling2d_1[0][0]            \n",
            "__________________________________________________________________________________________________\n",
            "bn2a_branch2a (BatchNormalizati (None, 7, 7, 64)     256         res2a_branch2a[0][0]             \n",
            "__________________________________________________________________________________________________\n",
            "activation_2 (Activation)       (None, 7, 7, 64)     0           bn2a_branch2a[0][0]              \n",
            "__________________________________________________________________________________________________\n",
            "res2a_branch2b (Conv2D)         (None, 7, 7, 64)     36928       activation_2[0][0]               \n",
            "__________________________________________________________________________________________________\n",
            "bn2a_branch2b (BatchNormalizati (None, 7, 7, 64)     256         res2a_branch2b[0][0]             \n",
            "__________________________________________________________________________________________________\n",
            "activation_3 (Activation)       (None, 7, 7, 64)     0           bn2a_branch2b[0][0]              \n",
            "__________________________________________________________________________________________________\n",
            "res2a_branch2c (Conv2D)         (None, 7, 7, 256)    16640       activation_3[0][0]               \n",
            "__________________________________________________________________________________________________\n",
            "res2a_branch1 (Conv2D)          (None, 7, 7, 256)    16640       max_pooling2d_1[0][0]            \n",
            "__________________________________________________________________________________________________\n",
            "bn2a_branch2c (BatchNormalizati (None, 7, 7, 256)    1024        res2a_branch2c[0][0]             \n",
            "__________________________________________________________________________________________________\n",
            "bn2a_branch1 (BatchNormalizatio (None, 7, 7, 256)    1024        res2a_branch1[0][0]              \n",
            "__________________________________________________________________________________________________\n",
            "add_1 (Add)                     (None, 7, 7, 256)    0           bn2a_branch2c[0][0]              \n",
            "                                                                 bn2a_branch1[0][0]               \n",
            "__________________________________________________________________________________________________\n",
            "activation_4 (Activation)       (None, 7, 7, 256)    0           add_1[0][0]                      \n",
            "__________________________________________________________________________________________________\n",
            "res2b_branch2a (Conv2D)         (None, 7, 7, 64)     16448       activation_4[0][0]               \n",
            "__________________________________________________________________________________________________\n",
            "bn2b_branch2a (BatchNormalizati (None, 7, 7, 64)     256         res2b_branch2a[0][0]             \n",
            "__________________________________________________________________________________________________\n",
            "activation_5 (Activation)       (None, 7, 7, 64)     0           bn2b_branch2a[0][0]              \n",
            "__________________________________________________________________________________________________\n",
            "res2b_branch2b (Conv2D)         (None, 7, 7, 64)     36928       activation_5[0][0]               \n",
            "__________________________________________________________________________________________________\n",
            "bn2b_branch2b (BatchNormalizati (None, 7, 7, 64)     256         res2b_branch2b[0][0]             \n",
            "__________________________________________________________________________________________________\n",
            "activation_6 (Activation)       (None, 7, 7, 64)     0           bn2b_branch2b[0][0]              \n",
            "__________________________________________________________________________________________________\n",
            "res2b_branch2c (Conv2D)         (None, 7, 7, 256)    16640       activation_6[0][0]               \n",
            "__________________________________________________________________________________________________\n",
            "bn2b_branch2c (BatchNormalizati (None, 7, 7, 256)    1024        res2b_branch2c[0][0]             \n",
            "__________________________________________________________________________________________________\n",
            "add_2 (Add)                     (None, 7, 7, 256)    0           bn2b_branch2c[0][0]              \n",
            "                                                                 activation_4[0][0]               \n",
            "__________________________________________________________________________________________________\n",
            "activation_7 (Activation)       (None, 7, 7, 256)    0           add_2[0][0]                      \n",
            "__________________________________________________________________________________________________\n",
            "res2c_branch2a (Conv2D)         (None, 7, 7, 64)     16448       activation_7[0][0]               \n",
            "__________________________________________________________________________________________________\n",
            "bn2c_branch2a (BatchNormalizati (None, 7, 7, 64)     256         res2c_branch2a[0][0]             \n",
            "__________________________________________________________________________________________________\n",
            "activation_8 (Activation)       (None, 7, 7, 64)     0           bn2c_branch2a[0][0]              \n",
            "__________________________________________________________________________________________________\n",
            "res2c_branch2b (Conv2D)         (None, 7, 7, 64)     36928       activation_8[0][0]               \n",
            "__________________________________________________________________________________________________\n",
            "bn2c_branch2b (BatchNormalizati (None, 7, 7, 64)     256         res2c_branch2b[0][0]             \n",
            "__________________________________________________________________________________________________\n",
            "activation_9 (Activation)       (None, 7, 7, 64)     0           bn2c_branch2b[0][0]              \n",
            "__________________________________________________________________________________________________\n",
            "res2c_branch2c (Conv2D)         (None, 7, 7, 256)    16640       activation_9[0][0]               \n",
            "__________________________________________________________________________________________________\n",
            "bn2c_branch2c (BatchNormalizati (None, 7, 7, 256)    1024        res2c_branch2c[0][0]             \n",
            "__________________________________________________________________________________________________\n",
            "add_3 (Add)                     (None, 7, 7, 256)    0           bn2c_branch2c[0][0]              \n",
            "                                                                 activation_7[0][0]               \n",
            "__________________________________________________________________________________________________\n",
            "activation_10 (Activation)      (None, 7, 7, 256)    0           add_3[0][0]                      \n",
            "__________________________________________________________________________________________________\n",
            "res3a_branch2a (Conv2D)         (None, 4, 4, 128)    32896       activation_10[0][0]              \n",
            "__________________________________________________________________________________________________\n",
            "bn3a_branch2a (BatchNormalizati (None, 4, 4, 128)    512         res3a_branch2a[0][0]             \n",
            "__________________________________________________________________________________________________\n",
            "activation_11 (Activation)      (None, 4, 4, 128)    0           bn3a_branch2a[0][0]              \n",
            "__________________________________________________________________________________________________\n",
            "res3a_branch2b (Conv2D)         (None, 4, 4, 128)    147584      activation_11[0][0]              \n",
            "__________________________________________________________________________________________________\n",
            "bn3a_branch2b (BatchNormalizati (None, 4, 4, 128)    512         res3a_branch2b[0][0]             \n",
            "__________________________________________________________________________________________________\n",
            "activation_12 (Activation)      (None, 4, 4, 128)    0           bn3a_branch2b[0][0]              \n",
            "__________________________________________________________________________________________________\n",
            "res3a_branch2c (Conv2D)         (None, 4, 4, 512)    66048       activation_12[0][0]              \n",
            "__________________________________________________________________________________________________\n",
            "res3a_branch1 (Conv2D)          (None, 4, 4, 512)    131584      activation_10[0][0]              \n",
            "__________________________________________________________________________________________________\n",
            "bn3a_branch2c (BatchNormalizati (None, 4, 4, 512)    2048        res3a_branch2c[0][0]             \n",
            "__________________________________________________________________________________________________\n",
            "bn3a_branch1 (BatchNormalizatio (None, 4, 4, 512)    2048        res3a_branch1[0][0]              \n",
            "__________________________________________________________________________________________________\n",
            "add_4 (Add)                     (None, 4, 4, 512)    0           bn3a_branch2c[0][0]              \n",
            "                                                                 bn3a_branch1[0][0]               \n",
            "__________________________________________________________________________________________________\n",
            "activation_13 (Activation)      (None, 4, 4, 512)    0           add_4[0][0]                      \n",
            "__________________________________________________________________________________________________\n",
            "res3b_branch2a (Conv2D)         (None, 4, 4, 128)    65664       activation_13[0][0]              \n",
            "__________________________________________________________________________________________________\n",
            "bn3b_branch2a (BatchNormalizati (None, 4, 4, 128)    512         res3b_branch2a[0][0]             \n",
            "__________________________________________________________________________________________________\n",
            "activation_14 (Activation)      (None, 4, 4, 128)    0           bn3b_branch2a[0][0]              \n",
            "__________________________________________________________________________________________________\n",
            "res3b_branch2b (Conv2D)         (None, 4, 4, 128)    147584      activation_14[0][0]              \n",
            "__________________________________________________________________________________________________\n",
            "bn3b_branch2b (BatchNormalizati (None, 4, 4, 128)    512         res3b_branch2b[0][0]             \n",
            "__________________________________________________________________________________________________\n",
            "activation_15 (Activation)      (None, 4, 4, 128)    0           bn3b_branch2b[0][0]              \n",
            "__________________________________________________________________________________________________\n",
            "res3b_branch2c (Conv2D)         (None, 4, 4, 512)    66048       activation_15[0][0]              \n",
            "__________________________________________________________________________________________________\n",
            "bn3b_branch2c (BatchNormalizati (None, 4, 4, 512)    2048        res3b_branch2c[0][0]             \n",
            "__________________________________________________________________________________________________\n",
            "add_5 (Add)                     (None, 4, 4, 512)    0           bn3b_branch2c[0][0]              \n",
            "                                                                 activation_13[0][0]              \n",
            "__________________________________________________________________________________________________\n",
            "activation_16 (Activation)      (None, 4, 4, 512)    0           add_5[0][0]                      \n",
            "__________________________________________________________________________________________________\n",
            "res3c_branch2a (Conv2D)         (None, 4, 4, 128)    65664       activation_16[0][0]              \n",
            "__________________________________________________________________________________________________\n",
            "bn3c_branch2a (BatchNormalizati (None, 4, 4, 128)    512         res3c_branch2a[0][0]             \n",
            "__________________________________________________________________________________________________\n",
            "activation_17 (Activation)      (None, 4, 4, 128)    0           bn3c_branch2a[0][0]              \n",
            "__________________________________________________________________________________________________\n",
            "res3c_branch2b (Conv2D)         (None, 4, 4, 128)    147584      activation_17[0][0]              \n",
            "__________________________________________________________________________________________________\n",
            "bn3c_branch2b (BatchNormalizati (None, 4, 4, 128)    512         res3c_branch2b[0][0]             \n",
            "__________________________________________________________________________________________________\n",
            "activation_18 (Activation)      (None, 4, 4, 128)    0           bn3c_branch2b[0][0]              \n",
            "__________________________________________________________________________________________________\n",
            "res3c_branch2c (Conv2D)         (None, 4, 4, 512)    66048       activation_18[0][0]              \n",
            "__________________________________________________________________________________________________\n",
            "bn3c_branch2c (BatchNormalizati (None, 4, 4, 512)    2048        res3c_branch2c[0][0]             \n",
            "__________________________________________________________________________________________________\n",
            "add_6 (Add)                     (None, 4, 4, 512)    0           bn3c_branch2c[0][0]              \n",
            "                                                                 activation_16[0][0]              \n",
            "__________________________________________________________________________________________________\n",
            "activation_19 (Activation)      (None, 4, 4, 512)    0           add_6[0][0]                      \n",
            "__________________________________________________________________________________________________\n",
            "res3d_branch2a (Conv2D)         (None, 4, 4, 128)    65664       activation_19[0][0]              \n",
            "__________________________________________________________________________________________________\n",
            "bn3d_branch2a (BatchNormalizati (None, 4, 4, 128)    512         res3d_branch2a[0][0]             \n",
            "__________________________________________________________________________________________________\n",
            "activation_20 (Activation)      (None, 4, 4, 128)    0           bn3d_branch2a[0][0]              \n",
            "__________________________________________________________________________________________________\n",
            "res3d_branch2b (Conv2D)         (None, 4, 4, 128)    147584      activation_20[0][0]              \n",
            "__________________________________________________________________________________________________\n",
            "bn3d_branch2b (BatchNormalizati (None, 4, 4, 128)    512         res3d_branch2b[0][0]             \n",
            "__________________________________________________________________________________________________\n",
            "activation_21 (Activation)      (None, 4, 4, 128)    0           bn3d_branch2b[0][0]              \n",
            "__________________________________________________________________________________________________\n",
            "res3d_branch2c (Conv2D)         (None, 4, 4, 512)    66048       activation_21[0][0]              \n",
            "__________________________________________________________________________________________________\n",
            "bn3d_branch2c (BatchNormalizati (None, 4, 4, 512)    2048        res3d_branch2c[0][0]             \n",
            "__________________________________________________________________________________________________\n",
            "add_7 (Add)                     (None, 4, 4, 512)    0           bn3d_branch2c[0][0]              \n",
            "                                                                 activation_19[0][0]              \n",
            "__________________________________________________________________________________________________\n",
            "activation_22 (Activation)      (None, 4, 4, 512)    0           add_7[0][0]                      \n",
            "__________________________________________________________________________________________________\n",
            "res4a_branch2a (Conv2D)         (None, 2, 2, 256)    131328      activation_22[0][0]              \n",
            "__________________________________________________________________________________________________\n",
            "bn4a_branch2a (BatchNormalizati (None, 2, 2, 256)    1024        res4a_branch2a[0][0]             \n",
            "__________________________________________________________________________________________________\n",
            "activation_23 (Activation)      (None, 2, 2, 256)    0           bn4a_branch2a[0][0]              \n",
            "__________________________________________________________________________________________________\n",
            "res4a_branch2b (Conv2D)         (None, 2, 2, 256)    590080      activation_23[0][0]              \n",
            "__________________________________________________________________________________________________\n",
            "bn4a_branch2b (BatchNormalizati (None, 2, 2, 256)    1024        res4a_branch2b[0][0]             \n",
            "__________________________________________________________________________________________________\n",
            "activation_24 (Activation)      (None, 2, 2, 256)    0           bn4a_branch2b[0][0]              \n",
            "__________________________________________________________________________________________________\n",
            "res4a_branch2c (Conv2D)         (None, 2, 2, 1024)   263168      activation_24[0][0]              \n",
            "__________________________________________________________________________________________________\n",
            "res4a_branch1 (Conv2D)          (None, 2, 2, 1024)   525312      activation_22[0][0]              \n",
            "__________________________________________________________________________________________________\n",
            "bn4a_branch2c (BatchNormalizati (None, 2, 2, 1024)   4096        res4a_branch2c[0][0]             \n",
            "__________________________________________________________________________________________________\n",
            "bn4a_branch1 (BatchNormalizatio (None, 2, 2, 1024)   4096        res4a_branch1[0][0]              \n",
            "__________________________________________________________________________________________________\n",
            "add_8 (Add)                     (None, 2, 2, 1024)   0           bn4a_branch2c[0][0]              \n",
            "                                                                 bn4a_branch1[0][0]               \n",
            "__________________________________________________________________________________________________\n",
            "activation_25 (Activation)      (None, 2, 2, 1024)   0           add_8[0][0]                      \n",
            "__________________________________________________________________________________________________\n",
            "res4b_branch2a (Conv2D)         (None, 2, 2, 256)    262400      activation_25[0][0]              \n",
            "__________________________________________________________________________________________________\n",
            "bn4b_branch2a (BatchNormalizati (None, 2, 2, 256)    1024        res4b_branch2a[0][0]             \n",
            "__________________________________________________________________________________________________\n",
            "activation_26 (Activation)      (None, 2, 2, 256)    0           bn4b_branch2a[0][0]              \n",
            "__________________________________________________________________________________________________\n",
            "res4b_branch2b (Conv2D)         (None, 2, 2, 256)    590080      activation_26[0][0]              \n",
            "__________________________________________________________________________________________________\n",
            "bn4b_branch2b (BatchNormalizati (None, 2, 2, 256)    1024        res4b_branch2b[0][0]             \n",
            "__________________________________________________________________________________________________\n",
            "activation_27 (Activation)      (None, 2, 2, 256)    0           bn4b_branch2b[0][0]              \n",
            "__________________________________________________________________________________________________\n",
            "res4b_branch2c (Conv2D)         (None, 2, 2, 1024)   263168      activation_27[0][0]              \n",
            "__________________________________________________________________________________________________\n",
            "bn4b_branch2c (BatchNormalizati (None, 2, 2, 1024)   4096        res4b_branch2c[0][0]             \n",
            "__________________________________________________________________________________________________\n",
            "add_9 (Add)                     (None, 2, 2, 1024)   0           bn4b_branch2c[0][0]              \n",
            "                                                                 activation_25[0][0]              \n",
            "__________________________________________________________________________________________________\n",
            "activation_28 (Activation)      (None, 2, 2, 1024)   0           add_9[0][0]                      \n",
            "__________________________________________________________________________________________________\n",
            "res4c_branch2a (Conv2D)         (None, 2, 2, 256)    262400      activation_28[0][0]              \n",
            "__________________________________________________________________________________________________\n",
            "bn4c_branch2a (BatchNormalizati (None, 2, 2, 256)    1024        res4c_branch2a[0][0]             \n",
            "__________________________________________________________________________________________________\n",
            "activation_29 (Activation)      (None, 2, 2, 256)    0           bn4c_branch2a[0][0]              \n",
            "__________________________________________________________________________________________________\n",
            "res4c_branch2b (Conv2D)         (None, 2, 2, 256)    590080      activation_29[0][0]              \n",
            "__________________________________________________________________________________________________\n",
            "bn4c_branch2b (BatchNormalizati (None, 2, 2, 256)    1024        res4c_branch2b[0][0]             \n",
            "__________________________________________________________________________________________________\n",
            "activation_30 (Activation)      (None, 2, 2, 256)    0           bn4c_branch2b[0][0]              \n",
            "__________________________________________________________________________________________________\n",
            "res4c_branch2c (Conv2D)         (None, 2, 2, 1024)   263168      activation_30[0][0]              \n",
            "__________________________________________________________________________________________________\n",
            "bn4c_branch2c (BatchNormalizati (None, 2, 2, 1024)   4096        res4c_branch2c[0][0]             \n",
            "__________________________________________________________________________________________________\n",
            "add_10 (Add)                    (None, 2, 2, 1024)   0           bn4c_branch2c[0][0]              \n",
            "                                                                 activation_28[0][0]              \n",
            "__________________________________________________________________________________________________\n",
            "activation_31 (Activation)      (None, 2, 2, 1024)   0           add_10[0][0]                     \n",
            "__________________________________________________________________________________________________\n",
            "res4d_branch2a (Conv2D)         (None, 2, 2, 256)    262400      activation_31[0][0]              \n",
            "__________________________________________________________________________________________________\n",
            "bn4d_branch2a (BatchNormalizati (None, 2, 2, 256)    1024        res4d_branch2a[0][0]             \n",
            "__________________________________________________________________________________________________\n",
            "activation_32 (Activation)      (None, 2, 2, 256)    0           bn4d_branch2a[0][0]              \n",
            "__________________________________________________________________________________________________\n",
            "res4d_branch2b (Conv2D)         (None, 2, 2, 256)    590080      activation_32[0][0]              \n",
            "__________________________________________________________________________________________________\n",
            "bn4d_branch2b (BatchNormalizati (None, 2, 2, 256)    1024        res4d_branch2b[0][0]             \n",
            "__________________________________________________________________________________________________\n",
            "activation_33 (Activation)      (None, 2, 2, 256)    0           bn4d_branch2b[0][0]              \n",
            "__________________________________________________________________________________________________\n",
            "res4d_branch2c (Conv2D)         (None, 2, 2, 1024)   263168      activation_33[0][0]              \n",
            "__________________________________________________________________________________________________\n",
            "bn4d_branch2c (BatchNormalizati (None, 2, 2, 1024)   4096        res4d_branch2c[0][0]             \n",
            "__________________________________________________________________________________________________\n",
            "add_11 (Add)                    (None, 2, 2, 1024)   0           bn4d_branch2c[0][0]              \n",
            "                                                                 activation_31[0][0]              \n",
            "__________________________________________________________________________________________________\n",
            "activation_34 (Activation)      (None, 2, 2, 1024)   0           add_11[0][0]                     \n",
            "__________________________________________________________________________________________________\n",
            "res4e_branch2a (Conv2D)         (None, 2, 2, 256)    262400      activation_34[0][0]              \n",
            "__________________________________________________________________________________________________\n",
            "bn4e_branch2a (BatchNormalizati (None, 2, 2, 256)    1024        res4e_branch2a[0][0]             \n",
            "__________________________________________________________________________________________________\n",
            "activation_35 (Activation)      (None, 2, 2, 256)    0           bn4e_branch2a[0][0]              \n",
            "__________________________________________________________________________________________________\n",
            "res4e_branch2b (Conv2D)         (None, 2, 2, 256)    590080      activation_35[0][0]              \n",
            "__________________________________________________________________________________________________\n",
            "bn4e_branch2b (BatchNormalizati (None, 2, 2, 256)    1024        res4e_branch2b[0][0]             \n",
            "__________________________________________________________________________________________________\n",
            "activation_36 (Activation)      (None, 2, 2, 256)    0           bn4e_branch2b[0][0]              \n",
            "__________________________________________________________________________________________________\n",
            "res4e_branch2c (Conv2D)         (None, 2, 2, 1024)   263168      activation_36[0][0]              \n",
            "__________________________________________________________________________________________________\n",
            "bn4e_branch2c (BatchNormalizati (None, 2, 2, 1024)   4096        res4e_branch2c[0][0]             \n",
            "__________________________________________________________________________________________________\n",
            "add_12 (Add)                    (None, 2, 2, 1024)   0           bn4e_branch2c[0][0]              \n",
            "                                                                 activation_34[0][0]              \n",
            "__________________________________________________________________________________________________\n",
            "activation_37 (Activation)      (None, 2, 2, 1024)   0           add_12[0][0]                     \n",
            "__________________________________________________________________________________________________\n",
            "res4f_branch2a (Conv2D)         (None, 2, 2, 256)    262400      activation_37[0][0]              \n",
            "__________________________________________________________________________________________________\n",
            "bn4f_branch2a (BatchNormalizati (None, 2, 2, 256)    1024        res4f_branch2a[0][0]             \n",
            "__________________________________________________________________________________________________\n",
            "activation_38 (Activation)      (None, 2, 2, 256)    0           bn4f_branch2a[0][0]              \n",
            "__________________________________________________________________________________________________\n",
            "res4f_branch2b (Conv2D)         (None, 2, 2, 256)    590080      activation_38[0][0]              \n",
            "__________________________________________________________________________________________________\n",
            "bn4f_branch2b (BatchNormalizati (None, 2, 2, 256)    1024        res4f_branch2b[0][0]             \n",
            "__________________________________________________________________________________________________\n",
            "activation_39 (Activation)      (None, 2, 2, 256)    0           bn4f_branch2b[0][0]              \n",
            "__________________________________________________________________________________________________\n",
            "res4f_branch2c (Conv2D)         (None, 2, 2, 1024)   263168      activation_39[0][0]              \n",
            "__________________________________________________________________________________________________\n",
            "bn4f_branch2c (BatchNormalizati (None, 2, 2, 1024)   4096        res4f_branch2c[0][0]             \n",
            "__________________________________________________________________________________________________\n",
            "add_13 (Add)                    (None, 2, 2, 1024)   0           bn4f_branch2c[0][0]              \n",
            "                                                                 activation_37[0][0]              \n",
            "__________________________________________________________________________________________________\n",
            "activation_40 (Activation)      (None, 2, 2, 1024)   0           add_13[0][0]                     \n",
            "__________________________________________________________________________________________________\n",
            "res5a_branch2a (Conv2D)         (None, 1, 1, 512)    524800      activation_40[0][0]              \n",
            "__________________________________________________________________________________________________\n",
            "bn5a_branch2a (BatchNormalizati (None, 1, 1, 512)    2048        res5a_branch2a[0][0]             \n",
            "__________________________________________________________________________________________________\n",
            "activation_41 (Activation)      (None, 1, 1, 512)    0           bn5a_branch2a[0][0]              \n",
            "__________________________________________________________________________________________________\n",
            "res5a_branch2b (Conv2D)         (None, 1, 1, 512)    2359808     activation_41[0][0]              \n",
            "__________________________________________________________________________________________________\n",
            "bn5a_branch2b (BatchNormalizati (None, 1, 1, 512)    2048        res5a_branch2b[0][0]             \n",
            "__________________________________________________________________________________________________\n",
            "activation_42 (Activation)      (None, 1, 1, 512)    0           bn5a_branch2b[0][0]              \n",
            "__________________________________________________________________________________________________\n",
            "res5a_branch2c (Conv2D)         (None, 1, 1, 2048)   1050624     activation_42[0][0]              \n",
            "__________________________________________________________________________________________________\n",
            "res5a_branch1 (Conv2D)          (None, 1, 1, 2048)   2099200     activation_40[0][0]              \n",
            "__________________________________________________________________________________________________\n",
            "bn5a_branch2c (BatchNormalizati (None, 1, 1, 2048)   8192        res5a_branch2c[0][0]             \n",
            "__________________________________________________________________________________________________\n",
            "bn5a_branch1 (BatchNormalizatio (None, 1, 1, 2048)   8192        res5a_branch1[0][0]              \n",
            "__________________________________________________________________________________________________\n",
            "add_14 (Add)                    (None, 1, 1, 2048)   0           bn5a_branch2c[0][0]              \n",
            "                                                                 bn5a_branch1[0][0]               \n",
            "__________________________________________________________________________________________________\n",
            "activation_43 (Activation)      (None, 1, 1, 2048)   0           add_14[0][0]                     \n",
            "__________________________________________________________________________________________________\n",
            "res5b_branch2a (Conv2D)         (None, 1, 1, 512)    1049088     activation_43[0][0]              \n",
            "__________________________________________________________________________________________________\n",
            "bn5b_branch2a (BatchNormalizati (None, 1, 1, 512)    2048        res5b_branch2a[0][0]             \n",
            "__________________________________________________________________________________________________\n",
            "activation_44 (Activation)      (None, 1, 1, 512)    0           bn5b_branch2a[0][0]              \n",
            "__________________________________________________________________________________________________\n",
            "res5b_branch2b (Conv2D)         (None, 1, 1, 512)    2359808     activation_44[0][0]              \n",
            "__________________________________________________________________________________________________\n",
            "bn5b_branch2b (BatchNormalizati (None, 1, 1, 512)    2048        res5b_branch2b[0][0]             \n",
            "__________________________________________________________________________________________________\n",
            "activation_45 (Activation)      (None, 1, 1, 512)    0           bn5b_branch2b[0][0]              \n",
            "__________________________________________________________________________________________________\n",
            "res5b_branch2c (Conv2D)         (None, 1, 1, 2048)   1050624     activation_45[0][0]              \n",
            "__________________________________________________________________________________________________\n",
            "bn5b_branch2c (BatchNormalizati (None, 1, 1, 2048)   8192        res5b_branch2c[0][0]             \n",
            "__________________________________________________________________________________________________\n",
            "add_15 (Add)                    (None, 1, 1, 2048)   0           bn5b_branch2c[0][0]              \n",
            "                                                                 activation_43[0][0]              \n",
            "__________________________________________________________________________________________________\n",
            "activation_46 (Activation)      (None, 1, 1, 2048)   0           add_15[0][0]                     \n",
            "__________________________________________________________________________________________________\n",
            "res5c_branch2a (Conv2D)         (None, 1, 1, 512)    1049088     activation_46[0][0]              \n",
            "__________________________________________________________________________________________________\n",
            "bn5c_branch2a (BatchNormalizati (None, 1, 1, 512)    2048        res5c_branch2a[0][0]             \n",
            "__________________________________________________________________________________________________\n",
            "activation_47 (Activation)      (None, 1, 1, 512)    0           bn5c_branch2a[0][0]              \n",
            "__________________________________________________________________________________________________\n",
            "res5c_branch2b (Conv2D)         (None, 1, 1, 512)    2359808     activation_47[0][0]              \n",
            "__________________________________________________________________________________________________\n",
            "bn5c_branch2b (BatchNormalizati (None, 1, 1, 512)    2048        res5c_branch2b[0][0]             \n",
            "__________________________________________________________________________________________________\n",
            "activation_48 (Activation)      (None, 1, 1, 512)    0           bn5c_branch2b[0][0]              \n",
            "__________________________________________________________________________________________________\n",
            "res5c_branch2c (Conv2D)         (None, 1, 1, 2048)   1050624     activation_48[0][0]              \n",
            "__________________________________________________________________________________________________\n",
            "bn5c_branch2c (BatchNormalizati (None, 1, 1, 2048)   8192        res5c_branch2c[0][0]             \n",
            "__________________________________________________________________________________________________\n",
            "add_16 (Add)                    (None, 1, 1, 2048)   0           bn5c_branch2c[0][0]              \n",
            "                                                                 activation_46[0][0]              \n",
            "__________________________________________________________________________________________________\n",
            "activation_49 (Activation)      (None, 1, 1, 2048)   0           add_16[0][0]                     \n",
            "__________________________________________________________________________________________________\n",
            "global_average_pooling2d_1 (Glo (None, 2048)         0           activation_49[0][0]              \n",
            "__________________________________________________________________________________________________\n",
            "dense_1 (Dense)                 (None, 1024)         2098176     global_average_pooling2d_1[0][0] \n",
            "__________________________________________________________________________________________________\n",
            "dense_2 (Dense)                 (None, 62)           63550       dense_1[0][0]                    \n",
            "==================================================================================================\n",
            "Total params: 25,749,438\n",
            "Trainable params: 25,696,318\n",
            "Non-trainable params: 53,120\n",
            "__________________________________________________________________________________________________\n"
          ],
          "name": "stdout"
        }
      ]
    },
    {
      "cell_type": "code",
      "metadata": {
        "id": "gY01ql3m2vgj",
        "colab_type": "code",
        "outputId": "9422619d-f073-4bcb-a9f1-943a07980e19",
        "colab": {
          "base_uri": "https://localhost:8080/",
          "height": 72
        }
      },
      "source": [
        "# freeze all convolutional resnet layers\n",
        "for layer in base_model.layers:\n",
        "    layer.trainable = False\n",
        "\n",
        "model.compile(loss='categorical_crossentropy', optimizer='Adam', metrics=['acc'])"
      ],
      "execution_count": 0,
      "outputs": [
        {
          "output_type": "stream",
          "text": [
            "W0804 20:06:55.891784 140449134294912 deprecation_wrapper.py:119] From /usr/local/lib/python3.6/dist-packages/keras/optimizers.py:790: The name tf.train.Optimizer is deprecated. Please use tf.compat.v1.train.Optimizer instead.\n",
            "\n"
          ],
          "name": "stderr"
        }
      ]
    },
    {
      "cell_type": "code",
      "metadata": {
        "id": "d3YGOmzX2l0s",
        "colab_type": "code",
        "outputId": "8978bc23-622c-4a78-93fc-6195c3cd7f7d",
        "colab": {
          "base_uri": "https://localhost:8080/",
          "height": 245
        }
      },
      "source": [
        "#train the model using fit_generator\n",
        "history = model.fit_generator(\n",
        "            generator=trn_generator,\n",
        "            steps_per_epoch=iters_train,\n",
        "            epochs=epochs,\n",
        "            callbacks=callbacks,\n",
        "            validation_data=val_generator,\n",
        "            validation_steps=iters_test,\n",
        "            use_multiprocessing=True,\n",
        "            shuffle=True\n",
        "        )"
      ],
      "execution_count": 0,
      "outputs": [
        {
          "output_type": "stream",
          "text": [
            "W0804 19:41:58.618039 140124642039680 deprecation.py:323] From /usr/local/lib/python3.6/dist-packages/tensorflow/python/ops/math_grad.py:1250: add_dispatch_support.<locals>.wrapper (from tensorflow.python.ops.array_ops) is deprecated and will be removed in a future version.\n",
            "Instructions for updating:\n",
            "Use tf.where in 2.0, which has the same broadcast rule as np.where\n"
          ],
          "name": "stderr"
        },
        {
          "output_type": "stream",
          "text": [
            "Epoch 1/10\n",
            "167/167 [==============================] - 324s 2s/step - loss: 1.4679 - acc: 0.6081 - val_loss: 6.1604 - val_acc: 0.0532\n",
            "Epoch 2/10\n",
            "167/167 [==============================] - 302s 2s/step - loss: 0.9676 - acc: 0.7107 - val_loss: 6.6290 - val_acc: 0.0511\n",
            "Epoch 3/10\n",
            "167/167 [==============================] - 310s 2s/step - loss: 0.8033 - acc: 0.7550 - val_loss: 7.2253 - val_acc: 0.0635\n",
            "Epoch 4/10\n",
            "167/167 [==============================] - 309s 2s/step - loss: 0.6772 - acc: 0.7922 - val_loss: 7.8741 - val_acc: 0.0624\n",
            "Epoch 00004: early stopping\n"
          ],
          "name": "stdout"
        }
      ]
    },
    {
      "cell_type": "code",
      "metadata": {
        "id": "n8vUjmqb7rGa",
        "colab_type": "code",
        "outputId": "6a88dfe8-e864-491b-9f34-53753bfb78e2",
        "colab": {
          "base_uri": "https://localhost:8080/",
          "height": 295
        }
      },
      "source": [
        "plt.plot(history.history['acc'])\n",
        "plt.plot(history.history['val_acc'])\n",
        "plt.title('Model accuracy')\n",
        "plt.ylabel('Accuracy')\n",
        "plt.xlabel('Epoch')\n",
        "plt.legend(['Train', 'Test'], loc='upper left')\n",
        "plt.show()"
      ],
      "execution_count": 0,
      "outputs": [
        {
          "output_type": "display_data",
          "data": {
            "image/png": "[encoded data removed]",
            "text/plain": [
              "<Figure size 432x288 with 1 Axes>"
            ]
          },
          "metadata": {
            "tags": []
          }
        }
      ]
    },
    {
      "cell_type": "markdown",
      "metadata": {
        "id": "MFJRRWJZP6Ky",
        "colab_type": "text"
      },
      "source": [
        "### ResNet18 Scratch Model"
      ]
    },
    {
      "cell_type": "code",
      "metadata": {
        "id": "lZDaVJOTGRJd",
        "colab_type": "code",
        "outputId": "b84101f5-98d9-4633-e98a-47c8fd315a3d",
        "colab": {
          "base_uri": "https://localhost:8080/",
          "height": 1000
        }
      },
      "source": [
        "base_model = ResNet18(input_shape, num_classes)\n",
        "\n",
        "model = Model(inputs=base_model.input, outputs=base_model.output)\n",
        "model.summary()"
      ],
      "execution_count": 0,
      "outputs": [
        {
          "output_type": "stream",
          "text": [
            "WARNING: Logging before flag parsing goes to stderr.\n",
            "W0805 03:53:43.826295 139893684635520 deprecation_wrapper.py:119] From /usr/local/lib/python3.6/dist-packages/keras/backend/tensorflow_backend.py:74: The name tf.get_default_graph is deprecated. Please use tf.compat.v1.get_default_graph instead.\n",
            "\n",
            "W0805 03:53:43.830656 139893684635520 deprecation_wrapper.py:119] From /usr/local/lib/python3.6/dist-packages/keras/backend/tensorflow_backend.py:517: The name tf.placeholder is deprecated. Please use tf.compat.v1.placeholder instead.\n",
            "\n",
            "W0805 03:53:43.837222 139893684635520 deprecation_wrapper.py:119] From /usr/local/lib/python3.6/dist-packages/keras/backend/tensorflow_backend.py:4185: The name tf.truncated_normal is deprecated. Please use tf.random.truncated_normal instead.\n",
            "\n",
            "W0805 03:53:43.869061 139893684635520 deprecation_wrapper.py:119] From /usr/local/lib/python3.6/dist-packages/keras/backend/tensorflow_backend.py:174: The name tf.get_default_session is deprecated. Please use tf.compat.v1.get_default_session instead.\n",
            "\n",
            "W0805 03:53:43.869916 139893684635520 deprecation_wrapper.py:119] From /usr/local/lib/python3.6/dist-packages/keras/backend/tensorflow_backend.py:181: The name tf.ConfigProto is deprecated. Please use tf.compat.v1.ConfigProto instead.\n",
            "\n",
            "W0805 03:53:44.367971 139893684635520 deprecation_wrapper.py:119] From /usr/local/lib/python3.6/dist-packages/keras/backend/tensorflow_backend.py:1834: The name tf.nn.fused_batch_norm is deprecated. Please use tf.compat.v1.nn.fused_batch_norm instead.\n",
            "\n",
            "W0805 03:53:44.437704 139893684635520 deprecation_wrapper.py:119] From /usr/local/lib/python3.6/dist-packages/keras/backend/tensorflow_backend.py:3976: The name tf.nn.max_pool is deprecated. Please use tf.nn.max_pool2d instead.\n",
            "\n"
          ],
          "name": "stderr"
        },
        {
          "output_type": "stream",
          "text": [
            "reshaping via a convolution...\n",
            "reshaping via a convolution...\n",
            "reshaping via a convolution...\n",
            "reshaping via a convolution...\n",
            "__________________________________________________________________________________________________\n",
            "Layer (type)                    Output Shape         Param #     Connected to                     \n",
            "==================================================================================================\n",
            "input_1 (InputLayer)            (None, 28, 28, 3)    0                                            \n",
            "__________________________________________________________________________________________________\n",
            "conv2d_1 (Conv2D)               (None, 14, 14, 64)   9472        input_1[0][0]                    \n",
            "__________________________________________________________________________________________________\n",
            "batch_normalization_1 (BatchNor (None, 14, 14, 64)   256         conv2d_1[0][0]                   \n",
            "__________________________________________________________________________________________________\n",
            "activation_1 (Activation)       (None, 14, 14, 64)   0           batch_normalization_1[0][0]      \n",
            "__________________________________________________________________________________________________\n",
            "max_pooling2d_1 (MaxPooling2D)  (None, 7, 7, 64)     0           activation_1[0][0]               \n",
            "__________________________________________________________________________________________________\n",
            "res0a_branch2a (Conv2D)         (None, 4, 4, 64)     36928       max_pooling2d_1[0][0]            \n",
            "__________________________________________________________________________________________________\n",
            "batch_normalization_2 (BatchNor (None, 4, 4, 64)     256         res0a_branch2a[0][0]             \n",
            "__________________________________________________________________________________________________\n",
            "conv2d_3 (Conv2D)               (None, 4, 4, 64)     4160        max_pooling2d_1[0][0]            \n",
            "__________________________________________________________________________________________________\n",
            "activation_2 (Activation)       (None, 4, 4, 64)     0           batch_normalization_2[0][0]      \n",
            "__________________________________________________________________________________________________\n",
            "batch_normalization_3 (BatchNor (None, 4, 4, 64)     256         conv2d_3[0][0]                   \n",
            "__________________________________________________________________________________________________\n",
            "conv2d_2 (Conv2D)               (None, 4, 4, 64)     36928       activation_2[0][0]               \n",
            "__________________________________________________________________________________________________\n",
            "add_1 (Add)                     (None, 4, 4, 64)     0           batch_normalization_3[0][0]      \n",
            "                                                                 conv2d_2[0][0]                   \n",
            "__________________________________________________________________________________________________\n",
            "batch_normalization_4 (BatchNor (None, 4, 4, 64)     256         add_1[0][0]                      \n",
            "__________________________________________________________________________________________________\n",
            "activation_3 (Activation)       (None, 4, 4, 64)     0           batch_normalization_4[0][0]      \n",
            "__________________________________________________________________________________________________\n",
            "conv2d_4 (Conv2D)               (None, 4, 4, 64)     36928       activation_3[0][0]               \n",
            "__________________________________________________________________________________________________\n",
            "batch_normalization_5 (BatchNor (None, 4, 4, 64)     256         conv2d_4[0][0]                   \n",
            "__________________________________________________________________________________________________\n",
            "activation_4 (Activation)       (None, 4, 4, 64)     0           batch_normalization_5[0][0]      \n",
            "__________________________________________________________________________________________________\n",
            "conv2d_5 (Conv2D)               (None, 4, 4, 64)     36928       activation_4[0][0]               \n",
            "__________________________________________________________________________________________________\n",
            "add_2 (Add)                     (None, 4, 4, 64)     0           add_1[0][0]                      \n",
            "                                                                 conv2d_5[0][0]                   \n",
            "__________________________________________________________________________________________________\n",
            "batch_normalization_6 (BatchNor (None, 4, 4, 64)     256         add_2[0][0]                      \n",
            "__________________________________________________________________________________________________\n",
            "activation_5 (Activation)       (None, 4, 4, 64)     0           batch_normalization_6[0][0]      \n",
            "__________________________________________________________________________________________________\n",
            "conv2d_6 (Conv2D)               (None, 2, 2, 128)    73856       activation_5[0][0]               \n",
            "__________________________________________________________________________________________________\n",
            "batch_normalization_7 (BatchNor (None, 2, 2, 128)    512         conv2d_6[0][0]                   \n",
            "__________________________________________________________________________________________________\n",
            "conv2d_8 (Conv2D)               (None, 2, 2, 128)    8320        add_2[0][0]                      \n",
            "__________________________________________________________________________________________________\n",
            "activation_6 (Activation)       (None, 2, 2, 128)    0           batch_normalization_7[0][0]      \n",
            "__________________________________________________________________________________________________\n",
            "batch_normalization_8 (BatchNor (None, 2, 2, 128)    512         conv2d_8[0][0]                   \n",
            "__________________________________________________________________________________________________\n",
            "conv2d_7 (Conv2D)               (None, 2, 2, 128)    147584      activation_6[0][0]               \n",
            "__________________________________________________________________________________________________\n",
            "add_3 (Add)                     (None, 2, 2, 128)    0           batch_normalization_8[0][0]      \n",
            "                                                                 conv2d_7[0][0]                   \n",
            "__________________________________________________________________________________________________\n",
            "batch_normalization_9 (BatchNor (None, 2, 2, 128)    512         add_3[0][0]                      \n",
            "__________________________________________________________________________________________________\n",
            "activation_7 (Activation)       (None, 2, 2, 128)    0           batch_normalization_9[0][0]      \n",
            "__________________________________________________________________________________________________\n",
            "conv2d_9 (Conv2D)               (None, 2, 2, 128)    147584      activation_7[0][0]               \n",
            "__________________________________________________________________________________________________\n",
            "batch_normalization_10 (BatchNo (None, 2, 2, 128)    512         conv2d_9[0][0]                   \n",
            "__________________________________________________________________________________________________\n",
            "activation_8 (Activation)       (None, 2, 2, 128)    0           batch_normalization_10[0][0]     \n",
            "__________________________________________________________________________________________________\n",
            "conv2d_10 (Conv2D)              (None, 2, 2, 128)    147584      activation_8[0][0]               \n",
            "__________________________________________________________________________________________________\n",
            "add_4 (Add)                     (None, 2, 2, 128)    0           add_3[0][0]                      \n",
            "                                                                 conv2d_10[0][0]                  \n",
            "__________________________________________________________________________________________________\n",
            "batch_normalization_11 (BatchNo (None, 2, 2, 128)    512         add_4[0][0]                      \n",
            "__________________________________________________________________________________________________\n",
            "activation_9 (Activation)       (None, 2, 2, 128)    0           batch_normalization_11[0][0]     \n",
            "__________________________________________________________________________________________________\n",
            "conv2d_11 (Conv2D)              (None, 1, 1, 256)    295168      activation_9[0][0]               \n",
            "__________________________________________________________________________________________________\n",
            "batch_normalization_12 (BatchNo (None, 1, 1, 256)    1024        conv2d_11[0][0]                  \n",
            "__________________________________________________________________________________________________\n",
            "conv2d_13 (Conv2D)              (None, 1, 1, 256)    33024       add_4[0][0]                      \n",
            "__________________________________________________________________________________________________\n",
            "activation_10 (Activation)      (None, 1, 1, 256)    0           batch_normalization_12[0][0]     \n",
            "__________________________________________________________________________________________________\n",
            "batch_normalization_13 (BatchNo (None, 1, 1, 256)    1024        conv2d_13[0][0]                  \n",
            "__________________________________________________________________________________________________\n",
            "conv2d_12 (Conv2D)              (None, 1, 1, 256)    590080      activation_10[0][0]              \n",
            "__________________________________________________________________________________________________\n",
            "add_5 (Add)                     (None, 1, 1, 256)    0           batch_normalization_13[0][0]     \n",
            "                                                                 conv2d_12[0][0]                  \n",
            "__________________________________________________________________________________________________\n",
            "batch_normalization_14 (BatchNo (None, 1, 1, 256)    1024        add_5[0][0]                      \n",
            "__________________________________________________________________________________________________\n",
            "activation_11 (Activation)      (None, 1, 1, 256)    0           batch_normalization_14[0][0]     \n",
            "__________________________________________________________________________________________________\n",
            "conv2d_14 (Conv2D)              (None, 1, 1, 256)    590080      activation_11[0][0]              \n",
            "__________________________________________________________________________________________________\n",
            "batch_normalization_15 (BatchNo (None, 1, 1, 256)    1024        conv2d_14[0][0]                  \n",
            "__________________________________________________________________________________________________\n",
            "activation_12 (Activation)      (None, 1, 1, 256)    0           batch_normalization_15[0][0]     \n",
            "__________________________________________________________________________________________________\n",
            "conv2d_15 (Conv2D)              (None, 1, 1, 256)    590080      activation_12[0][0]              \n",
            "__________________________________________________________________________________________________\n",
            "add_6 (Add)                     (None, 1, 1, 256)    0           add_5[0][0]                      \n",
            "                                                                 conv2d_15[0][0]                  \n",
            "__________________________________________________________________________________________________\n",
            "batch_normalization_16 (BatchNo (None, 1, 1, 256)    1024        add_6[0][0]                      \n",
            "__________________________________________________________________________________________________\n",
            "activation_13 (Activation)      (None, 1, 1, 256)    0           batch_normalization_16[0][0]     \n",
            "__________________________________________________________________________________________________\n",
            "conv2d_16 (Conv2D)              (None, 1, 1, 512)    1180160     activation_13[0][0]              \n",
            "__________________________________________________________________________________________________\n",
            "batch_normalization_17 (BatchNo (None, 1, 1, 512)    2048        conv2d_16[0][0]                  \n",
            "__________________________________________________________________________________________________\n",
            "conv2d_18 (Conv2D)              (None, 1, 1, 512)    131584      add_6[0][0]                      \n",
            "__________________________________________________________________________________________________\n",
            "activation_14 (Activation)      (None, 1, 1, 512)    0           batch_normalization_17[0][0]     \n",
            "__________________________________________________________________________________________________\n",
            "batch_normalization_18 (BatchNo (None, 1, 1, 512)    2048        conv2d_18[0][0]                  \n",
            "__________________________________________________________________________________________________\n",
            "conv2d_17 (Conv2D)              (None, 1, 1, 512)    2359808     activation_14[0][0]              \n",
            "__________________________________________________________________________________________________\n",
            "add_7 (Add)                     (None, 1, 1, 512)    0           batch_normalization_18[0][0]     \n",
            "                                                                 conv2d_17[0][0]                  \n",
            "__________________________________________________________________________________________________\n",
            "batch_normalization_19 (BatchNo (None, 1, 1, 512)    2048        add_7[0][0]                      \n",
            "__________________________________________________________________________________________________\n",
            "activation_15 (Activation)      (None, 1, 1, 512)    0           batch_normalization_19[0][0]     \n",
            "__________________________________________________________________________________________________\n",
            "conv2d_19 (Conv2D)              (None, 1, 1, 512)    2359808     activation_15[0][0]              \n",
            "__________________________________________________________________________________________________\n",
            "batch_normalization_20 (BatchNo (None, 1, 1, 512)    2048        conv2d_19[0][0]                  \n",
            "__________________________________________________________________________________________________\n",
            "activation_16 (Activation)      (None, 1, 1, 512)    0           batch_normalization_20[0][0]     \n",
            "__________________________________________________________________________________________________\n",
            "conv2d_20 (Conv2D)              (None, 1, 1, 512)    2359808     activation_16[0][0]              \n",
            "__________________________________________________________________________________________________\n",
            "add_8 (Add)                     (None, 1, 1, 512)    0           add_7[0][0]                      \n",
            "                                                                 conv2d_20[0][0]                  \n",
            "__________________________________________________________________________________________________\n",
            "batch_normalization_21 (BatchNo (None, 1, 1, 512)    2048        add_8[0][0]                      \n",
            "__________________________________________________________________________________________________\n",
            "activation_17 (Activation)      (None, 1, 1, 512)    0           batch_normalization_21[0][0]     \n",
            "__________________________________________________________________________________________________\n",
            "global_average_pooling2d_1 (Glo (None, 512)          0           activation_17[0][0]              \n",
            "__________________________________________________________________________________________________\n",
            "dense_1 (Dense)                 (None, 62)           31806       global_average_pooling2d_1[0][0] \n",
            "==================================================================================================\n",
            "Total params: 11,227,134\n",
            "Trainable params: 11,217,406\n",
            "Non-trainable params: 9,728\n",
            "__________________________________________________________________________________________________\n"
          ],
          "name": "stdout"
        }
      ]
    },
    {
      "cell_type": "code",
      "metadata": {
        "id": "xy87Z1IH6bMm",
        "colab_type": "code",
        "outputId": "9d22da82-67bb-41c7-e848-6920880532d5",
        "colab": {
          "base_uri": "https://localhost:8080/",
          "height": 72
        }
      },
      "source": [
        "# freeze all convolutional resnet layers\n",
        "for layer in base_model.layers:\n",
        "    layer.trainable = False\n",
        "\n",
        "model.compile(loss='categorical_crossentropy', optimizer='Adam', metrics=['acc'])"
      ],
      "execution_count": 0,
      "outputs": [
        {
          "output_type": "stream",
          "text": [
            "W0805 03:54:09.518040 139893684635520 deprecation_wrapper.py:119] From /usr/local/lib/python3.6/dist-packages/keras/optimizers.py:790: The name tf.train.Optimizer is deprecated. Please use tf.compat.v1.train.Optimizer instead.\n",
            "\n"
          ],
          "name": "stderr"
        }
      ]
    },
    {
      "cell_type": "code",
      "metadata": {
        "id": "CsT1U6ljPERz",
        "colab_type": "code",
        "outputId": "accc729c-3d8e-445a-cabf-8964bc80ede0",
        "colab": {
          "base_uri": "https://localhost:8080/",
          "height": 173
        }
      },
      "source": [
        "#train the model using fit_generator\n",
        "history = model.fit_generator(\n",
        "            generator=trn_generator,\n",
        "            steps_per_epoch=iters_train,\n",
        "            epochs=epochs,\n",
        "            callbacks=callbacks,\n",
        "            validation_data=val_generator,\n",
        "            validation_steps=iters_test,\n",
        "            use_multiprocessing=True,\n",
        "            shuffle=True\n",
        "        )"
      ],
      "execution_count": 0,
      "outputs": [
        {
          "output_type": "stream",
          "text": [
            "Epoch 1/10\n",
            "167/167 [==============================] - 301s 2s/step - loss: 5.6533 - acc: 0.0178 - val_loss: 9.9879 - val_acc: 0.0448\n",
            "Epoch 2/10\n",
            "167/167 [==============================] - 282s 2s/step - loss: 5.6533 - acc: 0.0178 - val_loss: 9.9879 - val_acc: 0.0448\n",
            "Epoch 3/10\n",
            "167/167 [==============================] - 285s 2s/step - loss: 5.6533 - acc: 0.0178 - val_loss: 9.9879 - val_acc: 0.0448\n",
            "Epoch 4/10\n",
            "167/167 [==============================] - 282s 2s/step - loss: 5.6533 - acc: 0.0178 - val_loss: 9.9879 - val_acc: 0.0448\n",
            "Epoch 00004: early stopping\n"
          ],
          "name": "stdout"
        }
      ]
    },
    {
      "cell_type": "code",
      "metadata": {
        "id": "IrW3nD0APiPf",
        "colab_type": "code",
        "outputId": "772779b9-b252-4f4c-d502-78e5736febf0",
        "colab": {
          "base_uri": "https://localhost:8080/",
          "height": 295
        }
      },
      "source": [
        "plt.plot(history.history['acc'])\n",
        "plt.plot(history.history['val_acc'])\n",
        "plt.title('Model accuracy')\n",
        "plt.ylabel('Accuracy')\n",
        "plt.xlabel('Epoch')\n",
        "plt.legend(['Train', 'Test'], loc='upper left')\n",
        "plt.show()"
      ],
      "execution_count": 0,
      "outputs": [
        {
          "output_type": "display_data",
          "data": {
            "image/png": "[encoded data removed]",
            "text/plain": [
              "<Figure size 432x288 with 1 Axes>"
            ]
          },
          "metadata": {
            "tags": []
          }
        }
      ]
    },
    {
      "cell_type": "code",
      "metadata": {
        "id": "BYERDa_2PkpB",
        "colab_type": "code",
        "colab": {}
      },
      "source": [
        ""
      ],
      "execution_count": 0,
      "outputs": []
    }
  ]
}