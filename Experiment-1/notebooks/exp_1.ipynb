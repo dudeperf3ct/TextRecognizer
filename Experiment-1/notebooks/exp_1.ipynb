{
  "nbformat": 4,
  "nbformat_minor": 0,
  "metadata": {
    "colab": {
      "name": "exp-1.ipynb",
      "version": "0.3.2",
      "provenance": [],
      "collapsed_sections": []
    },
    "kernelspec": {
      "name": "python3",
      "display_name": "Python 3"
    },
    "accelerator": "GPU"
  },
  "cells": [
    {
      "cell_type": "code",
      "metadata": {
        "id": "HzvGyXiytQ54",
        "colab_type": "code",
        "colab": {}
      },
      "source": [
        "!pip install comet-ml"
      ],
      "execution_count": 0,
      "outputs": []
    },
    {
      "cell_type": "code",
      "metadata": {
        "id": "mowmIGaKxPcO",
        "colab_type": "code",
        "colab": {}
      },
      "source": [
        "! git clone https://github.com/dudeperf3ct/TextRecognizer.git"
      ],
      "execution_count": 0,
      "outputs": []
    },
    {
      "cell_type": "code",
      "metadata": {
        "id": "ZBaKb-7bxSGt",
        "colab_type": "code",
        "outputId": "c4b9000f-b820-48cf-995f-e367db0da2bf",
        "colab": {
          "base_uri": "https://localhost:8080/",
          "height": 34
        }
      },
      "source": [
        "%cd TextRecognizer/Experiment-1/notebooks"
      ],
      "execution_count": 3,
      "outputs": [
        {
          "output_type": "stream",
          "text": [
            "/content/TextRecognizer/Experiment-1/notebooks\n"
          ],
          "name": "stdout"
        }
      ]
    },
    {
      "cell_type": "code",
      "metadata": {
        "id": "-Qu7ekkktcIE",
        "colab_type": "code",
        "colab": {}
      },
      "source": [
        "%reload_ext autoreload\n",
        "%autoreload 2\n",
        "%matplotlib inline"
      ],
      "execution_count": 0,
      "outputs": []
    },
    {
      "cell_type": "code",
      "metadata": {
        "id": "GEuepLnv0S-X",
        "colab_type": "code",
        "colab": {
          "base_uri": "https://localhost:8080/",
          "height": 34
        },
        "outputId": "736fd7a5-ad48-40ef-c7a7-e6356a4ed528"
      },
      "source": [
        "import tensorflow as tf\n",
        "if tf.test.gpu_device_name():\n",
        "    print('Default GPU Device: {}'.format(tf.test.gpu_device_name()))"
      ],
      "execution_count": 5,
      "outputs": [
        {
          "output_type": "stream",
          "text": [
            "Default GPU Device: /device:GPU:0\n"
          ],
          "name": "stdout"
        }
      ]
    },
    {
      "cell_type": "code",
      "metadata": {
        "id": "GYaGiND_xZgS",
        "colab_type": "code",
        "colab": {}
      },
      "source": [
        "import sys\n",
        "sys.path.append('..')"
      ],
      "execution_count": 0,
      "outputs": []
    },
    {
      "cell_type": "code",
      "metadata": {
        "id": "MG7-Bqh-xkq9",
        "colab_type": "code",
        "colab": {}
      },
      "source": [
        "from src.data.emnist_dataset import EMNIST"
      ],
      "execution_count": 0,
      "outputs": []
    },
    {
      "cell_type": "code",
      "metadata": {
        "id": "zm-AKFNFxoOj",
        "colab_type": "code",
        "colab": {
          "base_uri": "https://localhost:8080/",
          "height": 173
        },
        "outputId": "b4082d2e-108c-44f6-e4f7-81d3908f696d"
      },
      "source": [
        "dataset = EMNIST()\n",
        "(x_train, y_train), (x_test, y_test) = dataset.load_data()"
      ],
      "execution_count": 8,
      "outputs": [
        {
          "output_type": "stream",
          "text": [
            "\r0.00B [00:00, ?B/s]"
          ],
          "name": "stderr"
        },
        {
          "output_type": "stream",
          "text": [
            "[INFO] Downloading raw dataset...\n"
          ],
          "name": "stdout"
        },
        {
          "output_type": "stream",
          "text": [
            "709MB [00:38, 19.1MB/s]                           \n"
          ],
          "name": "stderr"
        },
        {
          "output_type": "stream",
          "text": [
            "[INFO] Download complete..\n",
            "[INFO] Unzipping raw dataset...\n",
            "[INFO] Unzipping complete\n",
            "[INFO] Loading training and test data from .mat file...\n",
            "[INFO] Saving to HDF5 in a compressed format...\n",
            "[INFO] Saving essential dataset parameters...\n",
            "[INFO] Cleaning up...\n"
          ],
          "name": "stdout"
        }
      ]
    },
    {
      "cell_type": "code",
      "metadata": {
        "id": "f43fcv-XzNkS",
        "colab_type": "code",
        "colab": {
          "base_uri": "https://localhost:8080/",
          "height": 159
        },
        "outputId": "d2a7aa46-72b0-491a-bd94-4fbdfc76366b"
      },
      "source": [
        "print(dataset)\n",
        "print('Training shape:', x_train.shape, y_train.shape)\n",
        "print('Test shape:', x_test.shape, y_test.shape)"
      ],
      "execution_count": 9,
      "outputs": [
        {
          "output_type": "stream",
          "text": [
            "EMNIST Dataset\n",
            "Num classes: 62\n",
            "Mapping: {0: '0', 1: '1', 2: '2', 3: '3', 4: '4', 5: '5', 6: '6', 7: '7', 8: '8', 9: '9', 10: 'A', 11: 'B', 12: 'C', 13: 'D', 14: 'E', 15: 'F', 16: 'G', 17: 'H', 18: 'I', 19: 'J', 20: 'K', 21: 'L', 22: 'M', 23: 'N', 24: 'O', 25: 'P', 26: 'Q', 27: 'R', 28: 'S', 29: 'T', 30: 'U', 31: 'V', 32: 'W', 33: 'X', 34: 'Y', 35: 'Z', 36: 'a', 37: 'b', 38: 'c', 39: 'd', 40: 'e', 41: 'f', 42: 'g', 43: 'h', 44: 'i', 45: 'j', 46: 'k', 47: 'l', 48: 'm', 49: 'n', 50: 'o', 51: 'p', 52: 'q', 53: 'r', 54: 's', 55: 't', 56: 'u', 57: 'v', 58: 'w', 59: 'x', 60: 'y', 61: 'z'}\n",
            "Input shape: [28, 28]\n",
            "\n",
            "Training shape: (697932, 28, 28) (697932, 62)\n",
            "Test shape: (116323, 28, 28) (116323, 62)\n"
          ],
          "name": "stdout"
        }
      ]
    },
    {
      "cell_type": "markdown",
      "metadata": {
        "id": "ovr_B78ds-st",
        "colab_type": "text"
      },
      "source": [
        "## EDA"
      ]
    },
    {
      "cell_type": "code",
      "metadata": {
        "id": "M8RKzcaQs-SC",
        "colab_type": "code",
        "colab": {}
      },
      "source": [
        ""
      ],
      "execution_count": 0,
      "outputs": []
    },
    {
      "cell_type": "code",
      "metadata": {
        "id": "NAJmzs30s9eT",
        "colab_type": "code",
        "colab": {}
      },
      "source": [
        ""
      ],
      "execution_count": 0,
      "outputs": []
    },
    {
      "cell_type": "markdown",
      "metadata": {
        "id": "Q2LQHKpHs_5i",
        "colab_type": "text"
      },
      "source": [
        "## Training"
      ]
    },
    {
      "cell_type": "code",
      "metadata": {
        "id": "3MJMFJbbze7S",
        "colab_type": "code",
        "colab": {
          "base_uri": "https://localhost:8080/",
          "height": 1000
        },
        "outputId": "a256d626-a164-433b-ed0f-76906e88eacd"
      },
      "source": [
        "! python ../src/training/train_model.py -b 1024 -e 1"
      ],
      "execution_count": 10,
      "outputs": [
        {
          "output_type": "stream",
          "text": [
            "[INFO] Getting dataset...\n",
            "[INFO] Training shape:  (558345, 28, 28) (558345, 62)\n",
            "[INFO] Validation shape:  (139587, 28, 28) (139587, 62)\n",
            "[INFO] Test shape:  (116323, 28, 28) (116323, 62)\n",
            "[INFO] Setting up the model..\n",
            "WARNING: Logging before flag parsing goes to stderr.\n",
            "W0724 13:04:11.771611 140140597307264 deprecation.py:506] From /usr/local/lib/python3.6/dist-packages/tensorflow/python/ops/init_ops.py:1251: calling VarianceScaling.__init__ (from tensorflow.python.ops.init_ops) with dtype is deprecated and will be removed in a future version.\n",
            "Instructions for updating:\n",
            "Call initializer instance with the dtype argument instead of passing it to the constructor\n",
            "<src.models.character_model.Character_Model object at 0x7f74f9659860>\n",
            "COMET INFO: Experiment is live on comet.ml https://www.comet.ml/dudeperf3ct/emnist/b9356032770b4d2a8877cd44b09cb248\n",
            "\n",
            "[INFO] Starting Training...\n",
            "Model: \"sequential\"\n",
            "_________________________________________________________________\n",
            "Layer (type)                 Output Shape              Param #   \n",
            "=================================================================\n",
            "lambda (Lambda)              (None, 28, 28, 1)         0         \n",
            "_________________________________________________________________\n",
            "conv2d (Conv2D)              (None, 26, 26, 32)        320       \n",
            "_________________________________________________________________\n",
            "conv2d_1 (Conv2D)            (None, 24, 24, 64)        18496     \n",
            "_________________________________________________________________\n",
            "max_pooling2d (MaxPooling2D) (None, 12, 12, 64)        0         \n",
            "_________________________________________________________________\n",
            "dropout (Dropout)            (None, 12, 12, 64)        0         \n",
            "_________________________________________________________________\n",
            "flatten (Flatten)            (None, 9216)              0         \n",
            "_________________________________________________________________\n",
            "dense (Dense)                (None, 128)               1179776   \n",
            "_________________________________________________________________\n",
            "dropout_1 (Dropout)          (None, 128)               0         \n",
            "_________________________________________________________________\n",
            "dense_1 (Dense)              (None, 62)                7998      \n",
            "=================================================================\n",
            "Total params: 1,206,590\n",
            "Trainable params: 1,206,590\n",
            "Non-trainable params: 0\n",
            "_________________________________________________________________\n",
            "Number: 546 137\n",
            "Using TensorFlow backend.\n",
            "2019-07-24 13:04:14.063766: I tensorflow/core/platform/profile_utils/cpu_utils.cc:94] CPU Frequency: 2300000000 Hz\n",
            "2019-07-24 13:04:14.065181: I tensorflow/compiler/xla/service/service.cc:168] XLA service 0x28d39c0 executing computations on platform Host. Devices:\n",
            "2019-07-24 13:04:14.065222: I tensorflow/compiler/xla/service/service.cc:175]   StreamExecutor device (0): <undefined>, <undefined>\n",
            "2019-07-24 13:04:14.069176: I tensorflow/stream_executor/platform/default/dso_loader.cc:42] Successfully opened dynamic library libcuda.so.1\n",
            "2019-07-24 13:04:14.228018: I tensorflow/stream_executor/cuda/cuda_gpu_executor.cc:1005] successful NUMA node read from SysFS had negative value (-1), but there must be at least one NUMA node, so returning NUMA node zero\n",
            "2019-07-24 13:04:14.229760: I tensorflow/compiler/xla/service/service.cc:168] XLA service 0x28d3d40 executing computations on platform CUDA. Devices:\n",
            "2019-07-24 13:04:14.229801: I tensorflow/compiler/xla/service/service.cc:175]   StreamExecutor device (0): Tesla T4, Compute Capability 7.5\n",
            "2019-07-24 13:04:14.230170: I tensorflow/stream_executor/cuda/cuda_gpu_executor.cc:1005] successful NUMA node read from SysFS had negative value (-1), but there must be at least one NUMA node, so returning NUMA node zero\n",
            "2019-07-24 13:04:14.231980: I tensorflow/core/common_runtime/gpu/gpu_device.cc:1640] Found device 0 with properties: \n",
            "name: Tesla T4 major: 7 minor: 5 memoryClockRate(GHz): 1.59\n",
            "pciBusID: 0000:00:04.0\n",
            "2019-07-24 13:04:14.232409: I tensorflow/stream_executor/platform/default/dso_loader.cc:42] Successfully opened dynamic library libcudart.so.10.0\n",
            "2019-07-24 13:04:14.235663: I tensorflow/stream_executor/platform/default/dso_loader.cc:42] Successfully opened dynamic library libcublas.so.10.0\n",
            "2019-07-24 13:04:14.237972: I tensorflow/stream_executor/platform/default/dso_loader.cc:42] Successfully opened dynamic library libcufft.so.10.0\n",
            "2019-07-24 13:04:14.239045: I tensorflow/stream_executor/platform/default/dso_loader.cc:42] Successfully opened dynamic library libcurand.so.10.0\n",
            "2019-07-24 13:04:14.242207: I tensorflow/stream_executor/platform/default/dso_loader.cc:42] Successfully opened dynamic library libcusolver.so.10.0\n",
            "2019-07-24 13:04:14.244862: I tensorflow/stream_executor/platform/default/dso_loader.cc:42] Successfully opened dynamic library libcusparse.so.10.0\n",
            "2019-07-24 13:04:14.251685: I tensorflow/stream_executor/platform/default/dso_loader.cc:42] Successfully opened dynamic library libcudnn.so.7\n",
            "2019-07-24 13:04:14.251878: I tensorflow/stream_executor/cuda/cuda_gpu_executor.cc:1005] successful NUMA node read from SysFS had negative value (-1), but there must be at least one NUMA node, so returning NUMA node zero\n",
            "2019-07-24 13:04:14.253608: I tensorflow/stream_executor/cuda/cuda_gpu_executor.cc:1005] successful NUMA node read from SysFS had negative value (-1), but there must be at least one NUMA node, so returning NUMA node zero\n",
            "2019-07-24 13:04:14.254811: I tensorflow/core/common_runtime/gpu/gpu_device.cc:1763] Adding visible gpu devices: 0\n",
            "2019-07-24 13:04:14.255565: I tensorflow/stream_executor/platform/default/dso_loader.cc:42] Successfully opened dynamic library libcudart.so.10.0\n",
            "2019-07-24 13:04:14.257577: I tensorflow/core/common_runtime/gpu/gpu_device.cc:1181] Device interconnect StreamExecutor with strength 1 edge matrix:\n",
            "2019-07-24 13:04:14.257762: I tensorflow/core/common_runtime/gpu/gpu_device.cc:1187]      0 \n",
            "2019-07-24 13:04:14.258421: I tensorflow/core/common_runtime/gpu/gpu_device.cc:1200] 0:   N \n",
            "2019-07-24 13:04:14.260070: I tensorflow/stream_executor/cuda/cuda_gpu_executor.cc:1005] successful NUMA node read from SysFS had negative value (-1), but there must be at least one NUMA node, so returning NUMA node zero\n",
            "2019-07-24 13:04:14.261556: I tensorflow/stream_executor/cuda/cuda_gpu_executor.cc:1005] successful NUMA node read from SysFS had negative value (-1), but there must be at least one NUMA node, so returning NUMA node zero\n",
            "2019-07-24 13:04:14.262871: W tensorflow/core/common_runtime/gpu/gpu_bfc_allocator.cc:40] Overriding allow_growth setting because the TF_FORCE_GPU_ALLOW_GROWTH environment variable is set. Original config value was 0.\n",
            "2019-07-24 13:04:14.263560: I tensorflow/core/common_runtime/gpu/gpu_device.cc:1326] Created TensorFlow device (/job:localhost/replica:0/task:0/device:GPU:0 with 14089 MB memory) -> physical GPU (device: 0, name: Tesla T4, pci bus id: 0000:00:04.0, compute capability: 7.5)\n",
            "2019-07-24 13:04:17.183740: I tensorflow/stream_executor/platform/default/dso_loader.cc:42] Successfully opened dynamic library libcublas.so.10.0\n",
            "2019-07-24 13:04:18.118923: I tensorflow/stream_executor/platform/default/dso_loader.cc:42] Successfully opened dynamic library libcudnn.so.7\n",
            "545/546 [============================>.] - ETA: 0s - loss: 0.8277 - acc: 0.7516Traceback (most recent call last):\n",
            "  File \"../src/training/train_model.py\", line 138, in <module>\n",
            "    main()\n",
            "  File \"../src/training/train_model.py\", line 135, in main\n",
            "    train(args)\n",
            "  File \"../src/training/train_model.py\", line 98, in train\n",
            "    epochs=args['epochs']\n",
            "  File \"/content/TextRecognizer/Experiment-1/src/training/util.py\", line 35, in train_model\n",
            "    callbacks=callbacks)\n",
            "  File \"/content/TextRecognizer/Experiment-1/src/models/base_model.py\", line 92, in fit\n",
            "    shuffle=True\n",
            "  File \"/usr/local/lib/python3.6/dist-packages/comet_ml/monkey_patching.py\", line 246, in wrapper\n",
            "    return_value = original(*args, **kwargs)\n",
            "  File \"/usr/local/lib/python3.6/dist-packages/tensorflow/python/keras/engine/training.py\", line 1433, in fit_generator\n",
            "    steps_name='steps_per_epoch')\n",
            "  File \"/usr/local/lib/python3.6/dist-packages/tensorflow/python/keras/engine/training_generator.py\", line 322, in model_iteration\n",
            "    steps_name='validation_steps')\n",
            "  File \"/usr/local/lib/python3.6/dist-packages/tensorflow/python/keras/engine/training_generator.py\", line 195, in model_iteration\n",
            "    callbacks._call_begin_hook(mode)\n",
            "  File \"/usr/local/lib/python3.6/dist-packages/tensorflow/python/keras/callbacks.py\", line 264, in _call_begin_hook\n",
            "    self.on_test_begin()\n",
            "  File \"/usr/local/lib/python3.6/dist-packages/tensorflow/python/keras/callbacks.py\", line 398, in on_test_begin\n",
            "    callback.on_test_begin(logs)\n",
            "AttributeError: 'KerasCallback' object has no attribute 'on_test_begin'\n",
            "COMET INFO: ----------------------------\n",
            "COMET INFO: Comet.ml Experiment Summary:\n",
            "COMET INFO:   Data:\n",
            "COMET INFO:     url: https://www.comet.ml/dudeperf3ct/emnist/b9356032770b4d2a8877cd44b09cb248\n",
            "COMET INFO:   Metrics [count] (min, max):\n",
            "COMET INFO:     sys.gpu.0.free_memory              : (15676145664.0, 15676145664.0)\n",
            "COMET INFO:     sys.gpu.0.gpu_utilization          : (0.0, 0.0)\n",
            "COMET INFO:     sys.gpu.0.total_memory             : (15812263936.0, 15812263936.0)\n",
            "COMET INFO:     sys.gpu.0.used_memory              : (136118272.0, 136118272.0)\n",
            "COMET INFO:     train_batch_acc [109]              : (0.0126953125, 0.7510975003242493)\n",
            "COMET INFO:     train_batch_loss [109]             : (0.461989164352417, 4.125514030456543)\n",
            "COMET INFO:     train_sys.gpu.0.free_memory [7]    : (13158514688.0, 13158514688.0)\n",
            "COMET INFO:     train_sys.gpu.0.gpu_utilization [7]: (11.0, 11.0)\n",
            "COMET INFO:     train_sys.gpu.0.used_memory [7]    : (2653749248.0, 2653749248.0)\n",
            "COMET INFO:   Other [count]:\n",
            "COMET INFO:     train_trainable_params: 1206590\n",
            "COMET INFO: ----------------------------\n",
            "COMET INFO: Uploading stats to Comet before program termination (may take several seconds)\n"
          ],
          "name": "stdout"
        }
      ]
    },
    {
      "cell_type": "code",
      "metadata": {
        "id": "yJZX0yAQBgjx",
        "colab_type": "code",
        "colab": {}
      },
      "source": [
        ""
      ],
      "execution_count": 0,
      "outputs": []
    },
    {
      "cell_type": "markdown",
      "metadata": {
        "id": "8An2rDQwtBT5",
        "colab_type": "text"
      },
      "source": [
        "## Testing"
      ]
    },
    {
      "cell_type": "code",
      "metadata": {
        "id": "L2v7DlsltCC0",
        "colab_type": "code",
        "colab": {}
      },
      "source": [
        ""
      ],
      "execution_count": 0,
      "outputs": []
    },
    {
      "cell_type": "code",
      "metadata": {
        "id": "cnbo0dSHtCWd",
        "colab_type": "code",
        "colab": {}
      },
      "source": [
        ""
      ],
      "execution_count": 0,
      "outputs": []
    },
    {
      "cell_type": "code",
      "metadata": {
        "id": "dNK0MNnjtCb7",
        "colab_type": "code",
        "colab": {}
      },
      "source": [
        ""
      ],
      "execution_count": 0,
      "outputs": []
    }
  ]
}